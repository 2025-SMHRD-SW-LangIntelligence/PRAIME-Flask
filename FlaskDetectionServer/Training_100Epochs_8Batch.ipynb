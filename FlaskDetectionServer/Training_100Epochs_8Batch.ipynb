{
 "cells": [
  {
   "cell_type": "code",
   "execution_count": 9,
   "id": "5c8d7bbf-8eda-4176-9f57-890d8fc7b569",
   "metadata": {},
   "outputs": [],
   "source": [
    "# 모듈 불러오기 (필요시 추가)\n",
    "import os\n",
    "from pathlib import Path\n",
    "import torch\n",
    "from ultralytics import YOLO\n",
    "import cv2\n",
    "import matplotlib.pyplot as plt\n",
    "import glob \n",
    "# from tqdm.auto import tqdm # tqdm.auto 모듈 추가\n",
    "from tqdm import tqdm # tqdm.auto 모듈 추가\n",
    "import gc\n"
   ]
  },
  {
   "cell_type": "code",
   "execution_count": 10,
   "id": "9dd7a30c-49c2-4bed-9071-5c8370ac98a0",
   "metadata": {},
   "outputs": [
    {
     "data": {
      "text/plain": [
       "device(type='cuda')"
      ]
     },
     "execution_count": 10,
     "metadata": {},
     "output_type": "execute_result"
    }
   ],
   "source": [
    "# device 변수 정의\n",
    "device = torch.device('cuda' if torch.cuda.is_available() else 'cpu')\n",
    "device"
   ]
  },
  {
   "cell_type": "code",
   "execution_count": 11,
   "id": "ebef64e0-40d3-44ea-b3db-e29734a37923",
   "metadata": {},
   "outputs": [],
   "source": [
    "dataset_yaml = \"AIHub/과수화상병 촬영 이미지/YOLOv11Dataset/dataset.yaml\""
   ]
  },
  {
   "cell_type": "code",
   "execution_count": 13,
   "id": "7e43c3b4-f388-401d-8c78-cc0c8aef39f7",
   "metadata": {},
   "outputs": [
    {
     "name": "stdout",
     "output_type": "stream",
     "text": [
      "[Errno 2] No such file or directory: 'AIHub/과수화상병 촬영 이미지'\n",
      "/ardor924/AIHub/과수화상병 촬영 이미지\n"
     ]
    }
   ],
   "source": [
    "%cd \"AIHub/과수화상병 촬영 이미지\""
   ]
  },
  {
   "cell_type": "code",
   "execution_count": 16,
   "id": "87f91bbc-ec1c-4737-935c-ac5112c82e6d",
   "metadata": {},
   "outputs": [],
   "source": [
    "# 파라미터 설정\n",
    "SAMPLE_RATIO = 0.01\n",
    "epochs = 100\n",
    "batch = 8\n",
    "imgsz = 512\n",
    "save_period = 10\n",
    "patience = 50"
   ]
  },
  {
   "cell_type": "code",
   "execution_count": 17,
   "id": "0176d257-bd48-4fdb-9382-3c70b624f1da",
   "metadata": {},
   "outputs": [],
   "source": [
    "# 메모리정리 & 가비지컬렉터\n",
    "\n",
    "gc.collect()\n",
    "\n",
    "if torch.cuda.is_available():\n",
    "    torch.cuda.empty_cache()\n",
    "    torch.cuda.ipc_collect()  # (선택) CUDA IPC 핸들 정리\n"
   ]
  },
  {
   "cell_type": "code",
   "execution_count": null,
   "id": "7286e910-213b-4a08-9e51-3dae6c4c0050",
   "metadata": {},
   "outputs": [
    {
     "name": "stdout",
     "output_type": "stream",
     "text": [
      "Starting model training...\n",
      "Starting YOLO training with settings: {'data': './YOLOv11Dataset/dataset.yaml', 'epochs': 100, 'batch': 8, 'imgsz': 512, 'device': 0, 'workers': 8, 'project': 'yolov11_results', 'name': 'fruit_disease_detection', 'save_period': 10, 'patience': 50, 'optimizer': 'auto', 'lr0': 0.01, 'lrf': 0.01, 'weight_decay': 0.0005}\n",
      "New https://pypi.org/project/ultralytics/8.3.158 available 😃 Update with 'pip install -U ultralytics'\n",
      "Ultralytics 8.3.156 🚀 Python-3.8.10 torch-2.4.1+cu121 CUDA:0 (NVIDIA A100 80GB PCIe MIG 3g.40gb, 40192MiB)\n",
      "\u001b[34m\u001b[1mengine/trainer: \u001b[0magnostic_nms=False, amp=True, augment=False, auto_augment=randaugment, batch=8, bgr=0.0, box=7.5, cache=False, cfg=None, classes=None, close_mosaic=10, cls=0.5, conf=None, copy_paste=0.0, copy_paste_mode=flip, cos_lr=False, cutmix=0.0, data=./YOLOv11Dataset/dataset.yaml, degrees=0.0, deterministic=True, device=0, dfl=1.5, dnn=False, dropout=0.0, dynamic=False, embed=None, epochs=100, erasing=0.4, exist_ok=False, fliplr=0.5, flipud=0.0, format=torchscript, fraction=1.0, freeze=None, half=False, hsv_h=0.015, hsv_s=0.7, hsv_v=0.4, imgsz=512, int8=False, iou=0.7, keras=False, kobj=1.0, line_width=None, lr0=0.01, lrf=0.01, mask_ratio=4, max_det=300, mixup=0.0, mode=train, model=yolo11n.pt, momentum=0.937, mosaic=1.0, multi_scale=False, name=fruit_disease_detection12, nbs=64, nms=False, opset=None, optimize=False, optimizer=auto, overlap_mask=True, patience=50, perspective=0.0, plots=True, pose=12.0, pretrained=True, profile=False, project=yolov11_results, rect=False, resume=False, retina_masks=False, save=True, save_conf=False, save_crop=False, save_dir=yolov11_results/fruit_disease_detection12, save_frames=False, save_json=False, save_period=10, save_txt=False, scale=0.5, seed=0, shear=0.0, show=False, show_boxes=True, show_conf=True, show_labels=True, simplify=True, single_cls=False, source=None, split=val, stream_buffer=False, task=detect, time=None, tracker=botsort.yaml, translate=0.1, val=True, verbose=True, vid_stride=1, visualize=False, warmup_bias_lr=0.1, warmup_epochs=3.0, warmup_momentum=0.8, weight_decay=0.0005, workers=8, workspace=None\n",
      "Overriding model.yaml nc=80 with nc=4\n",
      "\n",
      "                   from  n    params  module                                       arguments                     \n",
      "  0                  -1  1       464  ultralytics.nn.modules.conv.Conv             [3, 16, 3, 2]                 \n",
      "  1                  -1  1      4672  ultralytics.nn.modules.conv.Conv             [16, 32, 3, 2]                \n",
      "  2                  -1  1      6640  ultralytics.nn.modules.block.C3k2            [32, 64, 1, False, 0.25]      \n",
      "  3                  -1  1     36992  ultralytics.nn.modules.conv.Conv             [64, 64, 3, 2]                \n",
      "  4                  -1  1     26080  ultralytics.nn.modules.block.C3k2            [64, 128, 1, False, 0.25]     \n",
      "  5                  -1  1    147712  ultralytics.nn.modules.conv.Conv             [128, 128, 3, 2]              \n",
      "  6                  -1  1     87040  ultralytics.nn.modules.block.C3k2            [128, 128, 1, True]           \n",
      "  7                  -1  1    295424  ultralytics.nn.modules.conv.Conv             [128, 256, 3, 2]              \n",
      "  8                  -1  1    346112  ultralytics.nn.modules.block.C3k2            [256, 256, 1, True]           \n",
      "  9                  -1  1    164608  ultralytics.nn.modules.block.SPPF            [256, 256, 5]                 \n",
      " 10                  -1  1    249728  ultralytics.nn.modules.block.C2PSA           [256, 256, 1]                 \n",
      " 11                  -1  1         0  torch.nn.modules.upsampling.Upsample         [None, 2, 'nearest']          \n",
      " 12             [-1, 6]  1         0  ultralytics.nn.modules.conv.Concat           [1]                           \n",
      " 13                  -1  1    111296  ultralytics.nn.modules.block.C3k2            [384, 128, 1, False]          \n",
      " 14                  -1  1         0  torch.nn.modules.upsampling.Upsample         [None, 2, 'nearest']          \n",
      " 15             [-1, 4]  1         0  ultralytics.nn.modules.conv.Concat           [1]                           \n",
      " 16                  -1  1     32096  ultralytics.nn.modules.block.C3k2            [256, 64, 1, False]           \n",
      " 17                  -1  1     36992  ultralytics.nn.modules.conv.Conv             [64, 64, 3, 2]                \n",
      " 18            [-1, 13]  1         0  ultralytics.nn.modules.conv.Concat           [1]                           \n",
      " 19                  -1  1     86720  ultralytics.nn.modules.block.C3k2            [192, 128, 1, False]          \n",
      " 20                  -1  1    147712  ultralytics.nn.modules.conv.Conv             [128, 128, 3, 2]              \n",
      " 21            [-1, 10]  1         0  ultralytics.nn.modules.conv.Concat           [1]                           \n",
      " 22                  -1  1    378880  ultralytics.nn.modules.block.C3k2            [384, 256, 1, True]           \n",
      " 23        [16, 19, 22]  1    431452  ultralytics.nn.modules.head.Detect           [4, [64, 128, 256]]           \n",
      "YOLO11n summary: 181 layers, 2,590,620 parameters, 2,590,604 gradients, 6.4 GFLOPs\n",
      "\n",
      "Transferred 448/499 items from pretrained weights\n",
      "Freezing layer 'model.23.dfl.conv.weight'\n",
      "\u001b[34m\u001b[1mAMP: \u001b[0mrunning Automatic Mixed Precision (AMP) checks...\n",
      "\u001b[34m\u001b[1mAMP: \u001b[0mchecks passed ✅\n",
      "\u001b[34m\u001b[1mtrain: \u001b[0mFast image access ✅ (ping: 0.0±0.0 ms, read: 142.3±231.7 MB/s, size: 1451.7 KB)\n"
     ]
    },
    {
     "name": "stderr",
     "output_type": "stream",
     "text": [
      "\u001b[34m\u001b[1mtrain: \u001b[0mScanning /ardor924/AIHub/과수화상병 촬영 이미지/YOLOv11Dataset/labels/train... 59240 images, 0 backgrounds, 164 corrupt: 100%|██████████| 59240/59240 [23:45<00:00, 41.56it/s]"
     ]
    },
    {
     "name": "stdout",
     "output_type": "stream",
     "text": [
      "\u001b[34m\u001b[1mtrain: \u001b[0m/ardor924/AIHub/과수화상병 촬영 이미지/YOLOv11Dataset/images/train/V006_80_0_00_01_05_25_0_c06_20201020_0483_S01_1.jpg: ignoring corrupt image/label: non-normalized or out of bounds coordinates [      1.041]\n",
      "\u001b[34m\u001b[1mtrain: \u001b[0m/ardor924/AIHub/과수화상병 촬영 이미지/YOLOv11Dataset/images/train/V006_80_0_00_01_05_25_0_c06_20201029_0317_S01_1.jpg: ignoring corrupt image/label: non-normalized or out of bounds coordinates [     1.0003]\n",
      "\u001b[34m\u001b[1mtrain: \u001b[0m/ardor924/AIHub/과수화상병 촬영 이미지/YOLOv11Dataset/images/train/V006_80_0_00_01_05_25_0_c13_20201026_0209_S01_1.jpg: ignoring corrupt image/label: non-normalized or out of bounds coordinates [      1.002]\n",
      "\u001b[34m\u001b[1mtrain: \u001b[0m/ardor924/AIHub/과수화상병 촬영 이미지/YOLOv11Dataset/images/train/V006_80_0_00_01_05_25_0_c13_20201026_0223_S01_1.jpg: ignoring corrupt image/label: non-normalized or out of bounds coordinates [     1.0002]\n",
      "\u001b[34m\u001b[1mtrain: \u001b[0m/ardor924/AIHub/과수화상병 촬영 이미지/YOLOv11Dataset/images/train/V006_80_0_00_01_05_25_0_c16_20201103_0013_S01_1.JPG: ignoring corrupt image/label: non-normalized or out of bounds coordinates [      1.006]\n",
      "\u001b[34m\u001b[1mtrain: \u001b[0m/ardor924/AIHub/과수화상병 촬영 이미지/YOLOv11Dataset/images/train/V006_80_0_00_02_04_26_0_b08_20201207_0024_S01_1.jpg: ignoring corrupt image/label: non-normalized or out of bounds coordinates [      1.016]\n",
      "\u001b[34m\u001b[1mtrain: \u001b[0m/ardor924/AIHub/과수화상병 촬영 이미지/YOLOv11Dataset/images/train/V006_80_0_00_02_05_25_0_b01_20201117_0000_S01_1.jpg: ignoring corrupt image/label: non-normalized or out of bounds coordinates [     1.3333]\n",
      "\u001b[34m\u001b[1mtrain: \u001b[0m/ardor924/AIHub/과수화상병 촬영 이미지/YOLOv11Dataset/images/train/V006_80_0_00_02_05_25_0_b01_20201117_0002_S01_1.jpg: ignoring corrupt image/label: non-normalized or out of bounds coordinates [     1.3323]\n",
      "\u001b[34m\u001b[1mtrain: \u001b[0m/ardor924/AIHub/과수화상병 촬영 이미지/YOLOv11Dataset/images/train/V006_80_0_00_02_05_25_0_b01_20201117_0003_S01_1.jpg: ignoring corrupt image/label: non-normalized or out of bounds coordinates [     1.3333]\n",
      "\u001b[34m\u001b[1mtrain: \u001b[0m/ardor924/AIHub/과수화상병 촬영 이미지/YOLOv11Dataset/images/train/V006_80_0_00_02_05_25_0_b01_20201117_0004_S01_1.jpg: ignoring corrupt image/label: non-normalized or out of bounds coordinates [     1.3333]\n",
      "\u001b[34m\u001b[1mtrain: \u001b[0m/ardor924/AIHub/과수화상병 촬영 이미지/YOLOv11Dataset/images/train/V006_80_0_00_02_05_25_0_b01_20201117_0006_S01_1.jpg: ignoring corrupt image/label: non-normalized or out of bounds coordinates [     1.3333]\n",
      "\u001b[34m\u001b[1mtrain: \u001b[0m/ardor924/AIHub/과수화상병 촬영 이미지/YOLOv11Dataset/images/train/V006_80_0_00_02_05_25_0_b01_20201117_0007_S01_1.jpg: ignoring corrupt image/label: non-normalized or out of bounds coordinates [     1.3333]\n",
      "\u001b[34m\u001b[1mtrain: \u001b[0m/ardor924/AIHub/과수화상병 촬영 이미지/YOLOv11Dataset/images/train/V006_80_0_00_02_05_25_0_b01_20201117_0008_S01_1.jpg: ignoring corrupt image/label: non-normalized or out of bounds coordinates [     1.3333]\n",
      "\u001b[34m\u001b[1mtrain: \u001b[0m/ardor924/AIHub/과수화상병 촬영 이미지/YOLOv11Dataset/images/train/V006_80_0_00_02_05_25_0_b01_20201117_0009_S01_1.jpg: ignoring corrupt image/label: non-normalized or out of bounds coordinates [     1.3333]\n",
      "\u001b[34m\u001b[1mtrain: \u001b[0m/ardor924/AIHub/과수화상병 촬영 이미지/YOLOv11Dataset/images/train/V006_80_0_00_02_05_25_0_b01_20201117_0010_S01_1.jpg: ignoring corrupt image/label: non-normalized or out of bounds coordinates [     1.3333]\n",
      "\u001b[34m\u001b[1mtrain: \u001b[0m/ardor924/AIHub/과수화상병 촬영 이미지/YOLOv11Dataset/images/train/V006_80_0_00_02_05_25_0_b01_20201117_0011_S01_1.jpg: ignoring corrupt image/label: non-normalized or out of bounds coordinates [     1.3333]\n",
      "\u001b[34m\u001b[1mtrain: \u001b[0m/ardor924/AIHub/과수화상병 촬영 이미지/YOLOv11Dataset/images/train/V006_80_0_00_02_05_25_0_b01_20201117_0012_S01_1.jpg: ignoring corrupt image/label: non-normalized or out of bounds coordinates [     1.3333]\n",
      "\u001b[34m\u001b[1mtrain: \u001b[0m/ardor924/AIHub/과수화상병 촬영 이미지/YOLOv11Dataset/images/train/V006_80_0_00_02_05_25_0_b01_20201117_0013_S01_1.jpg: ignoring corrupt image/label: non-normalized or out of bounds coordinates [     1.3333]\n",
      "\u001b[34m\u001b[1mtrain: \u001b[0m/ardor924/AIHub/과수화상병 촬영 이미지/YOLOv11Dataset/images/train/V006_80_0_00_02_05_25_0_b01_20201117_0014_S01_1.jpg: ignoring corrupt image/label: non-normalized or out of bounds coordinates [     1.3333]\n",
      "\u001b[34m\u001b[1mtrain: \u001b[0m/ardor924/AIHub/과수화상병 촬영 이미지/YOLOv11Dataset/images/train/V006_80_0_00_02_05_25_0_b01_20201117_0016_S01_1.jpg: ignoring corrupt image/label: non-normalized or out of bounds coordinates [     1.3333]\n",
      "\u001b[34m\u001b[1mtrain: \u001b[0m/ardor924/AIHub/과수화상병 촬영 이미지/YOLOv11Dataset/images/train/V006_80_0_00_02_05_25_0_b01_20201117_0017_S01_1.jpg: ignoring corrupt image/label: non-normalized or out of bounds coordinates [     1.3303]\n",
      "\u001b[34m\u001b[1mtrain: \u001b[0m/ardor924/AIHub/과수화상병 촬영 이미지/YOLOv11Dataset/images/train/V006_80_0_00_02_05_25_0_b01_20201117_0018_S01_1.jpg: ignoring corrupt image/label: non-normalized or out of bounds coordinates [     1.3333]\n",
      "\u001b[34m\u001b[1mtrain: \u001b[0m/ardor924/AIHub/과수화상병 촬영 이미지/YOLOv11Dataset/images/train/V006_80_0_00_02_05_25_0_b01_20201117_0019_S01_1.jpg: ignoring corrupt image/label: non-normalized or out of bounds coordinates [     1.3303]\n",
      "\u001b[34m\u001b[1mtrain: \u001b[0m/ardor924/AIHub/과수화상병 촬영 이미지/YOLOv11Dataset/images/train/V006_80_0_00_02_05_25_0_b01_20201117_0020_S01_1.jpg: ignoring corrupt image/label: non-normalized or out of bounds coordinates [     1.3303]\n",
      "\u001b[34m\u001b[1mtrain: \u001b[0m/ardor924/AIHub/과수화상병 촬영 이미지/YOLOv11Dataset/images/train/V006_80_0_00_02_05_25_0_b01_20201117_0021_S01_1.jpg: ignoring corrupt image/label: non-normalized or out of bounds coordinates [     1.3303]\n",
      "\u001b[34m\u001b[1mtrain: \u001b[0m/ardor924/AIHub/과수화상병 촬영 이미지/YOLOv11Dataset/images/train/V006_80_0_00_02_05_25_0_b01_20201117_0022_S01_1.jpg: ignoring corrupt image/label: non-normalized or out of bounds coordinates [     1.3303]\n",
      "\u001b[34m\u001b[1mtrain: \u001b[0m/ardor924/AIHub/과수화상병 촬영 이미지/YOLOv11Dataset/images/train/V006_80_0_00_02_05_25_0_b01_20201117_0023_S01_1.jpg: ignoring corrupt image/label: non-normalized or out of bounds coordinates [     1.3303]\n",
      "\u001b[34m\u001b[1mtrain: \u001b[0m/ardor924/AIHub/과수화상병 촬영 이미지/YOLOv11Dataset/images/train/V006_80_0_00_02_05_25_0_b01_20201117_0024_S01_1.jpg: ignoring corrupt image/label: non-normalized or out of bounds coordinates [     1.3303]\n",
      "\u001b[34m\u001b[1mtrain: \u001b[0m/ardor924/AIHub/과수화상병 촬영 이미지/YOLOv11Dataset/images/train/V006_80_0_00_02_05_25_0_b01_20201117_0029_S01_1.jpg: ignoring corrupt image/label: non-normalized or out of bounds coordinates [     1.3303]\n",
      "\u001b[34m\u001b[1mtrain: \u001b[0m/ardor924/AIHub/과수화상병 촬영 이미지/YOLOv11Dataset/images/train/V006_80_0_00_02_05_25_0_b01_20201117_0030_S01_1.jpg: ignoring corrupt image/label: non-normalized or out of bounds coordinates [     1.3303]\n",
      "\u001b[34m\u001b[1mtrain: \u001b[0m/ardor924/AIHub/과수화상병 촬영 이미지/YOLOv11Dataset/images/train/V006_80_0_00_02_05_25_0_b01_20201117_0031_S01_1.jpg: ignoring corrupt image/label: non-normalized or out of bounds coordinates [     1.3303]\n",
      "\u001b[34m\u001b[1mtrain: \u001b[0m/ardor924/AIHub/과수화상병 촬영 이미지/YOLOv11Dataset/images/train/V006_80_0_00_02_05_25_0_b01_20201117_0032_S01_1.jpg: ignoring corrupt image/label: non-normalized or out of bounds coordinates [     1.3303]\n",
      "\u001b[34m\u001b[1mtrain: \u001b[0m/ardor924/AIHub/과수화상병 촬영 이미지/YOLOv11Dataset/images/train/V006_80_0_00_02_05_25_0_b01_20201117_0033_S01_1.jpg: ignoring corrupt image/label: non-normalized or out of bounds coordinates [     1.3333]\n",
      "\u001b[34m\u001b[1mtrain: \u001b[0m/ardor924/AIHub/과수화상병 촬영 이미지/YOLOv11Dataset/images/train/V006_80_0_00_02_05_25_0_b01_20201117_0034_S01_1.jpg: ignoring corrupt image/label: non-normalized or out of bounds coordinates [     1.3333]\n",
      "\u001b[34m\u001b[1mtrain: \u001b[0m/ardor924/AIHub/과수화상병 촬영 이미지/YOLOv11Dataset/images/train/V006_80_0_00_02_05_25_0_b01_20201117_0035_S01_1.jpg: ignoring corrupt image/label: non-normalized or out of bounds coordinates [     1.3303]\n",
      "\u001b[34m\u001b[1mtrain: \u001b[0m/ardor924/AIHub/과수화상병 촬영 이미지/YOLOv11Dataset/images/train/V006_80_0_00_02_05_25_0_b01_20201117_0036_S01_1.jpg: ignoring corrupt image/label: non-normalized or out of bounds coordinates [     1.3333]\n",
      "\u001b[34m\u001b[1mtrain: \u001b[0m/ardor924/AIHub/과수화상병 촬영 이미지/YOLOv11Dataset/images/train/V006_80_0_00_02_05_25_0_b01_20201117_0037_S01_1.jpg: ignoring corrupt image/label: non-normalized or out of bounds coordinates [     1.3303]\n",
      "\u001b[34m\u001b[1mtrain: \u001b[0m/ardor924/AIHub/과수화상병 촬영 이미지/YOLOv11Dataset/images/train/V006_80_0_00_02_05_25_0_b01_20201117_0038_S01_1.jpg: ignoring corrupt image/label: non-normalized or out of bounds coordinates [     1.3303]\n",
      "\u001b[34m\u001b[1mtrain: \u001b[0m/ardor924/AIHub/과수화상병 촬영 이미지/YOLOv11Dataset/images/train/V006_80_0_00_02_05_25_0_b01_20201117_0039_S01_1.jpg: ignoring corrupt image/label: non-normalized or out of bounds coordinates [     1.3303]\n",
      "\u001b[34m\u001b[1mtrain: \u001b[0m/ardor924/AIHub/과수화상병 촬영 이미지/YOLOv11Dataset/images/train/V006_80_0_00_02_05_25_0_b01_20201117_0040_S01_1.jpg: ignoring corrupt image/label: non-normalized or out of bounds coordinates [     1.3333]\n",
      "\u001b[34m\u001b[1mtrain: \u001b[0m/ardor924/AIHub/과수화상병 촬영 이미지/YOLOv11Dataset/images/train/V006_80_0_00_02_05_25_0_b01_20201117_0041_S01_1.jpg: ignoring corrupt image/label: non-normalized or out of bounds coordinates [     1.3333]\n",
      "\u001b[34m\u001b[1mtrain: \u001b[0m/ardor924/AIHub/과수화상병 촬영 이미지/YOLOv11Dataset/images/train/V006_80_0_00_02_05_25_0_b01_20201117_0043_S01_1.jpg: ignoring corrupt image/label: non-normalized or out of bounds coordinates [     1.3333]\n",
      "\u001b[34m\u001b[1mtrain: \u001b[0m/ardor924/AIHub/과수화상병 촬영 이미지/YOLOv11Dataset/images/train/V006_80_0_00_02_05_25_0_b01_20201117_0049_S01_1.jpg: ignoring corrupt image/label: non-normalized or out of bounds coordinates [     1.3333]\n",
      "\u001b[34m\u001b[1mtrain: \u001b[0m/ardor924/AIHub/과수화상병 촬영 이미지/YOLOv11Dataset/images/train/V006_80_0_00_02_05_25_0_b01_20201117_0050_S01_1.jpg: ignoring corrupt image/label: non-normalized or out of bounds coordinates [     1.3333]\n",
      "\u001b[34m\u001b[1mtrain: \u001b[0m/ardor924/AIHub/과수화상병 촬영 이미지/YOLOv11Dataset/images/train/V006_80_0_00_02_05_25_0_b01_20201117_0051_S01_1.jpg: ignoring corrupt image/label: non-normalized or out of bounds coordinates [     1.3333]\n",
      "\u001b[34m\u001b[1mtrain: \u001b[0m/ardor924/AIHub/과수화상병 촬영 이미지/YOLOv11Dataset/images/train/V006_80_0_00_02_05_25_0_b01_20201117_0052_S01_1.jpg: ignoring corrupt image/label: non-normalized or out of bounds coordinates [     1.3333]\n",
      "\u001b[34m\u001b[1mtrain: \u001b[0m/ardor924/AIHub/과수화상병 촬영 이미지/YOLOv11Dataset/images/train/V006_80_0_00_02_05_25_0_b01_20201117_0057_S01_1.jpg: ignoring corrupt image/label: non-normalized or out of bounds coordinates [     1.3333]\n",
      "\u001b[34m\u001b[1mtrain: \u001b[0m/ardor924/AIHub/과수화상병 촬영 이미지/YOLOv11Dataset/images/train/V006_80_0_00_02_05_25_0_b01_20201117_0058_S01_1.jpg: ignoring corrupt image/label: non-normalized or out of bounds coordinates [     1.3333]\n",
      "\u001b[34m\u001b[1mtrain: \u001b[0m/ardor924/AIHub/과수화상병 촬영 이미지/YOLOv11Dataset/images/train/V006_80_0_00_02_05_25_0_b01_20201117_0061_S01_1.jpg: ignoring corrupt image/label: non-normalized or out of bounds coordinates [     1.3333]\n",
      "\u001b[34m\u001b[1mtrain: \u001b[0m/ardor924/AIHub/과수화상병 촬영 이미지/YOLOv11Dataset/images/train/V006_80_0_00_02_05_25_0_b01_20201117_0063_S01_1.jpg: ignoring corrupt image/label: non-normalized or out of bounds coordinates [     1.3333]\n",
      "\u001b[34m\u001b[1mtrain: \u001b[0m/ardor924/AIHub/과수화상병 촬영 이미지/YOLOv11Dataset/images/train/V006_80_0_00_02_05_25_0_b01_20201117_0064_S01_1.jpg: ignoring corrupt image/label: non-normalized or out of bounds coordinates [     1.3333]\n",
      "\u001b[34m\u001b[1mtrain: \u001b[0m/ardor924/AIHub/과수화상병 촬영 이미지/YOLOv11Dataset/images/train/V006_80_0_00_02_05_25_0_b01_20201117_0065_S01_1.jpg: ignoring corrupt image/label: non-normalized or out of bounds coordinates [      1.333]\n",
      "\u001b[34m\u001b[1mtrain: \u001b[0m/ardor924/AIHub/과수화상병 촬영 이미지/YOLOv11Dataset/images/train/V006_80_0_00_02_05_25_0_b01_20201117_0066_S01_1.jpg: ignoring corrupt image/label: non-normalized or out of bounds coordinates [     1.3333]\n",
      "\u001b[34m\u001b[1mtrain: \u001b[0m/ardor924/AIHub/과수화상병 촬영 이미지/YOLOv11Dataset/images/train/V006_80_0_00_02_05_25_0_b01_20201117_0067_S01_1.jpg: ignoring corrupt image/label: non-normalized or out of bounds coordinates [     1.0515]\n",
      "\u001b[34m\u001b[1mtrain: \u001b[0m/ardor924/AIHub/과수화상병 촬영 이미지/YOLOv11Dataset/images/train/V006_80_0_00_02_05_25_0_b01_20201117_0069_S01_1.jpg: ignoring corrupt image/label: non-normalized or out of bounds coordinates [     1.3333]\n",
      "\u001b[34m\u001b[1mtrain: \u001b[0m/ardor924/AIHub/과수화상병 촬영 이미지/YOLOv11Dataset/images/train/V006_80_0_00_02_05_25_0_b01_20201117_0070_S01_1.jpg: ignoring corrupt image/label: non-normalized or out of bounds coordinates [     1.3333]\n",
      "\u001b[34m\u001b[1mtrain: \u001b[0m/ardor924/AIHub/과수화상병 촬영 이미지/YOLOv11Dataset/images/train/V006_80_0_00_02_05_25_0_b01_20201117_0071_S01_1.jpg: ignoring corrupt image/label: non-normalized or out of bounds coordinates [     1.3333]\n",
      "\u001b[34m\u001b[1mtrain: \u001b[0m/ardor924/AIHub/과수화상병 촬영 이미지/YOLOv11Dataset/images/train/V006_80_0_00_02_05_25_0_b01_20201117_0073_S01_1.jpg: ignoring corrupt image/label: non-normalized or out of bounds coordinates [     1.3333]\n",
      "\u001b[34m\u001b[1mtrain: \u001b[0m/ardor924/AIHub/과수화상병 촬영 이미지/YOLOv11Dataset/images/train/V006_80_0_00_02_05_25_0_b01_20201117_0074_S01_1.jpg: ignoring corrupt image/label: non-normalized or out of bounds coordinates [     1.3333]\n",
      "\u001b[34m\u001b[1mtrain: \u001b[0m/ardor924/AIHub/과수화상병 촬영 이미지/YOLOv11Dataset/images/train/V006_80_0_00_02_05_25_0_b01_20201117_0077_S01_1.jpg: ignoring corrupt image/label: non-normalized or out of bounds coordinates [     1.3333]\n",
      "\u001b[34m\u001b[1mtrain: \u001b[0m/ardor924/AIHub/과수화상병 촬영 이미지/YOLOv11Dataset/images/train/V006_80_0_00_02_05_25_0_b01_20201117_0078_S01_1.jpg: ignoring corrupt image/label: non-normalized or out of bounds coordinates [     1.3333]\n",
      "\u001b[34m\u001b[1mtrain: \u001b[0m/ardor924/AIHub/과수화상병 촬영 이미지/YOLOv11Dataset/images/train/V006_80_0_00_02_05_25_0_b01_20201117_0079_S01_1.jpg: ignoring corrupt image/label: non-normalized or out of bounds coordinates [     1.3333]\n",
      "\u001b[34m\u001b[1mtrain: \u001b[0m/ardor924/AIHub/과수화상병 촬영 이미지/YOLOv11Dataset/images/train/V006_80_0_00_02_05_25_0_b01_20201117_0080_S01_1.jpg: ignoring corrupt image/label: non-normalized or out of bounds coordinates [     1.2477]\n",
      "\u001b[34m\u001b[1mtrain: \u001b[0m/ardor924/AIHub/과수화상병 촬영 이미지/YOLOv11Dataset/images/train/V006_80_0_00_02_05_25_0_b01_20201117_0081_S01_1.jpg: ignoring corrupt image/label: non-normalized or out of bounds coordinates [     1.3333]\n",
      "\u001b[34m\u001b[1mtrain: \u001b[0m/ardor924/AIHub/과수화상병 촬영 이미지/YOLOv11Dataset/images/train/V006_80_0_00_02_05_25_0_b01_20201117_0082_S01_1.jpg: ignoring corrupt image/label: non-normalized or out of bounds coordinates [     1.3137]\n",
      "\u001b[34m\u001b[1mtrain: \u001b[0m/ardor924/AIHub/과수화상병 촬영 이미지/YOLOv11Dataset/images/train/V006_80_0_00_02_05_25_0_b01_20201117_0084_S01_1.jpg: ignoring corrupt image/label: non-normalized or out of bounds coordinates [     1.3333]\n",
      "\u001b[34m\u001b[1mtrain: \u001b[0m/ardor924/AIHub/과수화상병 촬영 이미지/YOLOv11Dataset/images/train/V006_80_0_00_02_05_25_0_b01_20201117_0086_S01_1.jpg: ignoring corrupt image/label: non-normalized or out of bounds coordinates [     1.3333]\n",
      "\u001b[34m\u001b[1mtrain: \u001b[0m/ardor924/AIHub/과수화상병 촬영 이미지/YOLOv11Dataset/images/train/V006_80_0_00_02_05_25_0_b01_20201117_0089_S01_1.jpg: ignoring corrupt image/label: non-normalized or out of bounds coordinates [     1.3333]\n",
      "\u001b[34m\u001b[1mtrain: \u001b[0m/ardor924/AIHub/과수화상병 촬영 이미지/YOLOv11Dataset/images/train/V006_80_0_00_02_05_25_0_b01_20201117_0092_S01_1.jpg: ignoring corrupt image/label: non-normalized or out of bounds coordinates [     1.3333]\n",
      "\u001b[34m\u001b[1mtrain: \u001b[0m/ardor924/AIHub/과수화상병 촬영 이미지/YOLOv11Dataset/images/train/V006_80_0_00_02_05_25_0_b01_20201117_0093_S01_1.jpg: ignoring corrupt image/label: non-normalized or out of bounds coordinates [     1.3333]\n",
      "\u001b[34m\u001b[1mtrain: \u001b[0m/ardor924/AIHub/과수화상병 촬영 이미지/YOLOv11Dataset/images/train/V006_80_0_00_02_05_25_0_b01_20201117_0095_S01_1.jpg: ignoring corrupt image/label: non-normalized or out of bounds coordinates [     1.3333]\n",
      "\u001b[34m\u001b[1mtrain: \u001b[0m/ardor924/AIHub/과수화상병 촬영 이미지/YOLOv11Dataset/images/train/V006_80_0_00_02_05_25_0_b01_20201117_0100_S01_1.jpg: ignoring corrupt image/label: non-normalized or out of bounds coordinates [     1.3333]\n",
      "\u001b[34m\u001b[1mtrain: \u001b[0m/ardor924/AIHub/과수화상병 촬영 이미지/YOLOv11Dataset/images/train/V006_80_0_00_02_05_25_0_b01_20201117_0102_S01_1.jpg: ignoring corrupt image/label: non-normalized or out of bounds coordinates [     1.3333]\n",
      "\u001b[34m\u001b[1mtrain: \u001b[0m/ardor924/AIHub/과수화상병 촬영 이미지/YOLOv11Dataset/images/train/V006_80_0_00_02_05_25_0_b01_20201117_0103_S01_1.jpg: ignoring corrupt image/label: non-normalized or out of bounds coordinates [     1.3333]\n",
      "\u001b[34m\u001b[1mtrain: \u001b[0m/ardor924/AIHub/과수화상병 촬영 이미지/YOLOv11Dataset/images/train/V006_80_0_00_02_05_25_0_b01_20201117_0105_S01_1.jpg: ignoring corrupt image/label: non-normalized or out of bounds coordinates [     1.3333]\n",
      "\u001b[34m\u001b[1mtrain: \u001b[0m/ardor924/AIHub/과수화상병 촬영 이미지/YOLOv11Dataset/images/train/V006_80_0_00_02_05_25_0_b01_20201117_0106_S01_1.jpg: ignoring corrupt image/label: non-normalized or out of bounds coordinates [     1.2787]\n",
      "\u001b[34m\u001b[1mtrain: \u001b[0m/ardor924/AIHub/과수화상병 촬영 이미지/YOLOv11Dataset/images/train/V006_80_0_00_02_05_25_0_b01_20201117_0107_S01_1.jpg: ignoring corrupt image/label: non-normalized or out of bounds coordinates [     1.3333]\n",
      "\u001b[34m\u001b[1mtrain: \u001b[0m/ardor924/AIHub/과수화상병 촬영 이미지/YOLOv11Dataset/images/train/V006_80_0_00_02_05_25_0_b01_20201117_0109_S01_1.jpg: ignoring corrupt image/label: non-normalized or out of bounds coordinates [     1.3333]\n",
      "\u001b[34m\u001b[1mtrain: \u001b[0m/ardor924/AIHub/과수화상병 촬영 이미지/YOLOv11Dataset/images/train/V006_80_0_00_02_05_25_0_b01_20201117_0110_S01_1.jpg: ignoring corrupt image/label: non-normalized or out of bounds coordinates [     1.3333]\n",
      "\u001b[34m\u001b[1mtrain: \u001b[0m/ardor924/AIHub/과수화상병 촬영 이미지/YOLOv11Dataset/images/train/V006_80_0_00_02_05_25_0_b01_20201117_0111_S01_1.jpg: ignoring corrupt image/label: non-normalized or out of bounds coordinates [     1.3333]\n",
      "\u001b[34m\u001b[1mtrain: \u001b[0m/ardor924/AIHub/과수화상병 촬영 이미지/YOLOv11Dataset/images/train/V006_80_0_00_02_05_25_0_b08_20201201_0599_S01_1.jpg: ignoring corrupt image/label: non-normalized or out of bounds coordinates [     1.0007]\n",
      "\u001b[34m\u001b[1mtrain: \u001b[0m/ardor924/AIHub/과수화상병 촬영 이미지/YOLOv11Dataset/images/train/V006_80_0_00_02_05_25_0_c35_20201117_0473_S01_1.JPG: ignoring corrupt image/label: non-normalized or out of bounds coordinates [      1.002]\n",
      "\u001b[34m\u001b[1mtrain: \u001b[0m/ardor924/AIHub/과수화상병 촬영 이미지/YOLOv11Dataset/images/train/V006_80_0_00_02_05_25_0_c36_20201117_0000_S01_1.jpg: ignoring corrupt image/label: non-normalized or out of bounds coordinates [     1.3317]\n",
      "\u001b[34m\u001b[1mtrain: \u001b[0m/ardor924/AIHub/과수화상병 촬영 이미지/YOLOv11Dataset/images/train/V006_80_0_00_02_05_25_0_c36_20201117_0001_S01_1.jpg: ignoring corrupt image/label: non-normalized or out of bounds coordinates [     1.3333]\n",
      "\u001b[34m\u001b[1mtrain: \u001b[0m/ardor924/AIHub/과수화상병 촬영 이미지/YOLOv11Dataset/images/train/V006_80_0_00_02_05_25_0_c36_20201117_0002_S01_1.jpg: ignoring corrupt image/label: non-normalized or out of bounds coordinates [     1.3333]\n",
      "\u001b[34m\u001b[1mtrain: \u001b[0m/ardor924/AIHub/과수화상병 촬영 이미지/YOLOv11Dataset/images/train/V006_80_0_00_02_05_25_0_c36_20201117_0004_S01_1.jpg: ignoring corrupt image/label: non-normalized or out of bounds coordinates [     1.3333]\n",
      "\u001b[34m\u001b[1mtrain: \u001b[0m/ardor924/AIHub/과수화상병 촬영 이미지/YOLOv11Dataset/images/train/V006_80_0_00_02_05_25_0_c36_20201117_0005_S01_1.jpg: ignoring corrupt image/label: non-normalized or out of bounds coordinates [     1.3333]\n",
      "\u001b[34m\u001b[1mtrain: \u001b[0m/ardor924/AIHub/과수화상병 촬영 이미지/YOLOv11Dataset/images/train/V006_80_0_00_02_05_25_0_c36_20201117_0007_S01_1.jpg: ignoring corrupt image/label: non-normalized or out of bounds coordinates [     1.3333]\n",
      "\u001b[34m\u001b[1mtrain: \u001b[0m/ardor924/AIHub/과수화상병 촬영 이미지/YOLOv11Dataset/images/train/V006_80_0_00_02_05_25_0_c36_20201117_0011_S01_1.jpg: ignoring corrupt image/label: non-normalized or out of bounds coordinates [     1.3333]\n",
      "\u001b[34m\u001b[1mtrain: \u001b[0m/ardor924/AIHub/과수화상병 촬영 이미지/YOLOv11Dataset/images/train/V006_80_0_00_02_05_25_0_c36_20201117_0012_S01_1.jpg: ignoring corrupt image/label: non-normalized or out of bounds coordinates [     1.3333]\n",
      "\u001b[34m\u001b[1mtrain: \u001b[0m/ardor924/AIHub/과수화상병 촬영 이미지/YOLOv11Dataset/images/train/V006_80_0_00_02_05_25_0_c36_20201117_0013_S01_1.jpg: ignoring corrupt image/label: non-normalized or out of bounds coordinates [     1.3333]\n",
      "\u001b[34m\u001b[1mtrain: \u001b[0m/ardor924/AIHub/과수화상병 촬영 이미지/YOLOv11Dataset/images/train/V006_80_0_00_02_05_25_0_c36_20201117_0015_S01_1.jpg: ignoring corrupt image/label: non-normalized or out of bounds coordinates [     1.3317]\n",
      "\u001b[34m\u001b[1mtrain: \u001b[0m/ardor924/AIHub/과수화상병 촬영 이미지/YOLOv11Dataset/images/train/V006_80_0_00_02_05_25_0_c36_20201117_0016_S01_1.jpg: ignoring corrupt image/label: non-normalized or out of bounds coordinates [     1.3333]\n",
      "\u001b[34m\u001b[1mtrain: \u001b[0m/ardor924/AIHub/과수화상병 촬영 이미지/YOLOv11Dataset/images/train/V006_80_0_00_02_05_25_0_c36_20201117_0017_S01_1.jpg: ignoring corrupt image/label: non-normalized or out of bounds coordinates [     1.3333]\n",
      "\u001b[34m\u001b[1mtrain: \u001b[0m/ardor924/AIHub/과수화상병 촬영 이미지/YOLOv11Dataset/images/train/V006_80_0_00_02_05_25_0_c36_20201117_0018_S01_1.jpg: ignoring corrupt image/label: non-normalized or out of bounds coordinates [     1.3333]\n",
      "\u001b[34m\u001b[1mtrain: \u001b[0m/ardor924/AIHub/과수화상병 촬영 이미지/YOLOv11Dataset/images/train/V006_80_0_00_02_05_25_0_c36_20201117_0019_S01_1.jpg: ignoring corrupt image/label: non-normalized or out of bounds coordinates [     1.3333]\n",
      "\u001b[34m\u001b[1mtrain: \u001b[0m/ardor924/AIHub/과수화상병 촬영 이미지/YOLOv11Dataset/images/train/V006_80_0_00_02_05_25_0_c36_20201117_0021_S01_1.jpg: ignoring corrupt image/label: non-normalized or out of bounds coordinates [     1.3333]\n",
      "\u001b[34m\u001b[1mtrain: \u001b[0m/ardor924/AIHub/과수화상병 촬영 이미지/YOLOv11Dataset/images/train/V006_80_0_00_02_05_25_0_c36_20201117_0022_S01_1.jpg: ignoring corrupt image/label: non-normalized or out of bounds coordinates [     1.3333]\n",
      "\u001b[34m\u001b[1mtrain: \u001b[0m/ardor924/AIHub/과수화상병 촬영 이미지/YOLOv11Dataset/images/train/V006_80_0_00_02_05_25_0_c36_20201117_0023_S01_1.jpg: ignoring corrupt image/label: non-normalized or out of bounds coordinates [     1.3333]\n",
      "\u001b[34m\u001b[1mtrain: \u001b[0m/ardor924/AIHub/과수화상병 촬영 이미지/YOLOv11Dataset/images/train/V006_80_0_00_02_05_25_0_c36_20201117_0024_S01_1.jpg: ignoring corrupt image/label: non-normalized or out of bounds coordinates [     1.3333]\n",
      "\u001b[34m\u001b[1mtrain: \u001b[0m/ardor924/AIHub/과수화상병 촬영 이미지/YOLOv11Dataset/images/train/V006_80_0_00_02_05_25_0_c36_20201117_0026_S01_1.jpg: ignoring corrupt image/label: non-normalized or out of bounds coordinates [     1.3333]\n",
      "\u001b[34m\u001b[1mtrain: \u001b[0m/ardor924/AIHub/과수화상병 촬영 이미지/YOLOv11Dataset/images/train/V006_80_0_00_02_05_25_0_c36_20201117_0027_S01_1.jpg: ignoring corrupt image/label: non-normalized or out of bounds coordinates [     1.3333]\n",
      "\u001b[34m\u001b[1mtrain: \u001b[0m/ardor924/AIHub/과수화상병 촬영 이미지/YOLOv11Dataset/images/train/V006_80_0_00_02_05_25_0_c36_20201117_0028_S01_1.jpg: ignoring corrupt image/label: non-normalized or out of bounds coordinates [     1.3333]\n",
      "\u001b[34m\u001b[1mtrain: \u001b[0m/ardor924/AIHub/과수화상병 촬영 이미지/YOLOv11Dataset/images/train/V006_80_0_00_02_05_25_0_c36_20201117_0029_S01_1.jpg: ignoring corrupt image/label: non-normalized or out of bounds coordinates [     1.3333]\n",
      "\u001b[34m\u001b[1mtrain: \u001b[0m/ardor924/AIHub/과수화상병 촬영 이미지/YOLOv11Dataset/images/train/V006_80_0_00_02_05_25_0_c36_20201117_0030_S01_1.jpg: ignoring corrupt image/label: non-normalized or out of bounds coordinates [     1.3333]\n",
      "\u001b[34m\u001b[1mtrain: \u001b[0m/ardor924/AIHub/과수화상병 촬영 이미지/YOLOv11Dataset/images/train/V006_80_0_00_02_05_25_0_c36_20201117_0031_S01_1.jpg: ignoring corrupt image/label: non-normalized or out of bounds coordinates [     1.3333]\n",
      "\u001b[34m\u001b[1mtrain: \u001b[0m/ardor924/AIHub/과수화상병 촬영 이미지/YOLOv11Dataset/images/train/V006_80_0_00_02_05_25_0_c36_20201117_0033_S01_1.jpg: ignoring corrupt image/label: non-normalized or out of bounds coordinates [     1.3333]\n",
      "\u001b[34m\u001b[1mtrain: \u001b[0m/ardor924/AIHub/과수화상병 촬영 이미지/YOLOv11Dataset/images/train/V006_80_0_00_02_05_25_0_c36_20201117_0036_S01_1.jpg: ignoring corrupt image/label: non-normalized or out of bounds coordinates [     1.3333]\n",
      "\u001b[34m\u001b[1mtrain: \u001b[0m/ardor924/AIHub/과수화상병 촬영 이미지/YOLOv11Dataset/images/train/V006_80_0_00_02_05_25_0_c36_20201117_0037_S01_1.jpg: ignoring corrupt image/label: non-normalized or out of bounds coordinates [     1.3317]\n",
      "\u001b[34m\u001b[1mtrain: \u001b[0m/ardor924/AIHub/과수화상병 촬영 이미지/YOLOv11Dataset/images/train/V006_80_0_00_02_05_25_0_c36_20201117_0038_S01_1.jpg: ignoring corrupt image/label: non-normalized or out of bounds coordinates [     1.3333]\n",
      "\u001b[34m\u001b[1mtrain: \u001b[0m/ardor924/AIHub/과수화상병 촬영 이미지/YOLOv11Dataset/images/train/V006_80_0_00_02_05_25_0_c36_20201117_0039_S01_1.jpg: ignoring corrupt image/label: non-normalized or out of bounds coordinates [     1.3333]\n",
      "\u001b[34m\u001b[1mtrain: \u001b[0m/ardor924/AIHub/과수화상병 촬영 이미지/YOLOv11Dataset/images/train/V006_80_0_00_02_05_25_0_c36_20201117_0041_S01_1.jpg: ignoring corrupt image/label: non-normalized or out of bounds coordinates [     1.3333]\n",
      "\u001b[34m\u001b[1mtrain: \u001b[0m/ardor924/AIHub/과수화상병 촬영 이미지/YOLOv11Dataset/images/train/V006_80_0_00_02_05_25_0_c36_20201117_0043_S01_1.jpg: ignoring corrupt image/label: non-normalized or out of bounds coordinates [     1.3333]\n",
      "\u001b[34m\u001b[1mtrain: \u001b[0m/ardor924/AIHub/과수화상병 촬영 이미지/YOLOv11Dataset/images/train/V006_80_0_00_02_05_25_0_c36_20201117_0045_S01_1.jpg: ignoring corrupt image/label: non-normalized or out of bounds coordinates [     1.3333]\n",
      "\u001b[34m\u001b[1mtrain: \u001b[0m/ardor924/AIHub/과수화상병 촬영 이미지/YOLOv11Dataset/images/train/V006_80_0_00_02_05_25_0_c36_20201117_0046_S01_1.jpg: ignoring corrupt image/label: non-normalized or out of bounds coordinates [     1.3333]\n",
      "\u001b[34m\u001b[1mtrain: \u001b[0m/ardor924/AIHub/과수화상병 촬영 이미지/YOLOv11Dataset/images/train/V006_80_0_00_02_05_25_0_c36_20201117_0048_S01_1.jpg: ignoring corrupt image/label: non-normalized or out of bounds coordinates [     1.3333]\n",
      "\u001b[34m\u001b[1mtrain: \u001b[0m/ardor924/AIHub/과수화상병 촬영 이미지/YOLOv11Dataset/images/train/V006_80_0_00_02_05_25_0_c36_20201117_0049_S01_1.jpg: ignoring corrupt image/label: non-normalized or out of bounds coordinates [     1.3333]\n",
      "\u001b[34m\u001b[1mtrain: \u001b[0m/ardor924/AIHub/과수화상병 촬영 이미지/YOLOv11Dataset/images/train/V006_80_0_00_02_05_25_0_c36_20201117_0053_S01_1.jpg: ignoring corrupt image/label: non-normalized or out of bounds coordinates [     1.3333]\n",
      "\u001b[34m\u001b[1mtrain: \u001b[0m/ardor924/AIHub/과수화상병 촬영 이미지/YOLOv11Dataset/images/train/V006_80_0_00_02_05_25_0_c36_20201117_0054_S01_1.jpg: ignoring corrupt image/label: non-normalized or out of bounds coordinates [     1.3333]\n",
      "\u001b[34m\u001b[1mtrain: \u001b[0m/ardor924/AIHub/과수화상병 촬영 이미지/YOLOv11Dataset/images/train/V006_80_0_00_02_05_25_0_c36_20201117_0057_S01_1.jpg: ignoring corrupt image/label: non-normalized or out of bounds coordinates [     1.3333]\n",
      "\u001b[34m\u001b[1mtrain: \u001b[0m/ardor924/AIHub/과수화상병 촬영 이미지/YOLOv11Dataset/images/train/V006_80_0_00_02_05_25_0_c36_20201117_0058_S01_1.jpg: ignoring corrupt image/label: non-normalized or out of bounds coordinates [     1.3333]\n",
      "\u001b[34m\u001b[1mtrain: \u001b[0m/ardor924/AIHub/과수화상병 촬영 이미지/YOLOv11Dataset/images/train/V006_80_0_00_02_05_25_0_c36_20201117_0062_S01_1.jpg: ignoring corrupt image/label: non-normalized or out of bounds coordinates [     1.3333]\n",
      "\u001b[34m\u001b[1mtrain: \u001b[0m/ardor924/AIHub/과수화상병 촬영 이미지/YOLOv11Dataset/images/train/V006_80_0_00_02_05_25_0_c36_20201117_0063_S01_1.jpg: ignoring corrupt image/label: non-normalized or out of bounds coordinates [     1.3333]\n",
      "\u001b[34m\u001b[1mtrain: \u001b[0m/ardor924/AIHub/과수화상병 촬영 이미지/YOLOv11Dataset/images/train/V006_80_0_00_02_05_25_0_c36_20201117_0064_S01_1.jpg: ignoring corrupt image/label: non-normalized or out of bounds coordinates [     1.3333]\n",
      "\u001b[34m\u001b[1mtrain: \u001b[0m/ardor924/AIHub/과수화상병 촬영 이미지/YOLOv11Dataset/images/train/V006_80_0_00_02_05_25_0_c36_20201117_0067_S01_1.jpg: ignoring corrupt image/label: non-normalized or out of bounds coordinates [     1.3333]\n",
      "\u001b[34m\u001b[1mtrain: \u001b[0m/ardor924/AIHub/과수화상병 촬영 이미지/YOLOv11Dataset/images/train/V006_80_0_00_02_05_25_0_c36_20201117_0068_S01_1.jpg: ignoring corrupt image/label: non-normalized or out of bounds coordinates [     1.3333]\n",
      "\u001b[34m\u001b[1mtrain: \u001b[0m/ardor924/AIHub/과수화상병 촬영 이미지/YOLOv11Dataset/images/train/V006_80_0_00_02_05_25_0_c36_20201117_0069_S01_1.jpg: ignoring corrupt image/label: non-normalized or out of bounds coordinates [     1.3333]\n",
      "\u001b[34m\u001b[1mtrain: \u001b[0m/ardor924/AIHub/과수화상병 촬영 이미지/YOLOv11Dataset/images/train/V006_80_0_00_02_05_25_0_c36_20201117_0070_S01_1.jpg: ignoring corrupt image/label: non-normalized or out of bounds coordinates [     1.3333]\n",
      "\u001b[34m\u001b[1mtrain: \u001b[0m/ardor924/AIHub/과수화상병 촬영 이미지/YOLOv11Dataset/images/train/V006_80_0_00_02_05_25_0_c36_20201117_0071_S01_1.jpg: ignoring corrupt image/label: non-normalized or out of bounds coordinates [     1.3333]\n",
      "\u001b[34m\u001b[1mtrain: \u001b[0m/ardor924/AIHub/과수화상병 촬영 이미지/YOLOv11Dataset/images/train/V006_80_0_00_02_05_25_0_c36_20201117_0072_S01_1.jpg: ignoring corrupt image/label: non-normalized or out of bounds coordinates [     1.3283]\n",
      "\u001b[34m\u001b[1mtrain: \u001b[0m/ardor924/AIHub/과수화상병 촬영 이미지/YOLOv11Dataset/images/train/V006_80_0_00_02_05_25_0_c36_20201117_0074_S01_1.jpg: ignoring corrupt image/label: non-normalized or out of bounds coordinates [     1.3333]\n",
      "\u001b[34m\u001b[1mtrain: \u001b[0m/ardor924/AIHub/과수화상병 촬영 이미지/YOLOv11Dataset/images/train/V006_80_0_00_02_05_25_0_c36_20201117_0075_S01_1.jpg: ignoring corrupt image/label: non-normalized or out of bounds coordinates [     1.3333]\n",
      "\u001b[34m\u001b[1mtrain: \u001b[0m/ardor924/AIHub/과수화상병 촬영 이미지/YOLOv11Dataset/images/train/V006_80_0_00_02_05_25_0_c36_20201117_0077_S01_1.jpg: ignoring corrupt image/label: non-normalized or out of bounds coordinates [     1.3333]\n",
      "\u001b[34m\u001b[1mtrain: \u001b[0m/ardor924/AIHub/과수화상병 촬영 이미지/YOLOv11Dataset/images/train/V006_80_0_00_02_05_25_0_c36_20201117_0078_S01_1.jpg: ignoring corrupt image/label: non-normalized or out of bounds coordinates [     1.3333]\n",
      "\u001b[34m\u001b[1mtrain: \u001b[0m/ardor924/AIHub/과수화상병 촬영 이미지/YOLOv11Dataset/images/train/V006_80_0_00_02_05_25_0_c36_20201117_0079_S01_1.jpg: ignoring corrupt image/label: non-normalized or out of bounds coordinates [     1.3333]\n",
      "\u001b[34m\u001b[1mtrain: \u001b[0m/ardor924/AIHub/과수화상병 촬영 이미지/YOLOv11Dataset/images/train/V006_80_0_00_02_05_25_0_c36_20201117_0080_S01_1.jpg: ignoring corrupt image/label: non-normalized or out of bounds coordinates [     1.3333]\n",
      "\u001b[34m\u001b[1mtrain: \u001b[0m/ardor924/AIHub/과수화상병 촬영 이미지/YOLOv11Dataset/images/train/V006_80_0_00_02_05_25_0_c36_20201117_0081_S01_1.jpg: ignoring corrupt image/label: non-normalized or out of bounds coordinates [     1.3333]\n",
      "\u001b[34m\u001b[1mtrain: \u001b[0m/ardor924/AIHub/과수화상병 촬영 이미지/YOLOv11Dataset/images/train/V006_80_0_00_02_05_25_0_c36_20201117_0083_S01_1.jpg: ignoring corrupt image/label: non-normalized or out of bounds coordinates [     1.3333]\n",
      "\u001b[34m\u001b[1mtrain: \u001b[0m/ardor924/AIHub/과수화상병 촬영 이미지/YOLOv11Dataset/images/train/V006_80_0_00_02_05_25_0_c36_20201117_0084_S01_1.jpg: ignoring corrupt image/label: non-normalized or out of bounds coordinates [     1.3333]\n",
      "\u001b[34m\u001b[1mtrain: \u001b[0m/ardor924/AIHub/과수화상병 촬영 이미지/YOLOv11Dataset/images/train/V006_80_0_00_02_05_25_0_c36_20201117_0085_S01_1.jpg: ignoring corrupt image/label: non-normalized or out of bounds coordinates [     1.3333]\n",
      "\u001b[34m\u001b[1mtrain: \u001b[0m/ardor924/AIHub/과수화상병 촬영 이미지/YOLOv11Dataset/images/train/V006_80_0_00_02_05_25_0_c36_20201117_0086_S01_1.jpg: ignoring corrupt image/label: non-normalized or out of bounds coordinates [     1.3333]\n",
      "\u001b[34m\u001b[1mtrain: \u001b[0m/ardor924/AIHub/과수화상병 촬영 이미지/YOLOv11Dataset/images/train/V006_80_0_00_02_05_25_0_c36_20201117_0087_S01_1.jpg: ignoring corrupt image/label: non-normalized or out of bounds coordinates [     1.3333]\n",
      "\u001b[34m\u001b[1mtrain: \u001b[0m/ardor924/AIHub/과수화상병 촬영 이미지/YOLOv11Dataset/images/train/V006_80_0_00_02_05_25_0_c36_20201117_0088_S01_1.jpg: ignoring corrupt image/label: non-normalized or out of bounds coordinates [     1.3333]\n",
      "\u001b[34m\u001b[1mtrain: \u001b[0m/ardor924/AIHub/과수화상병 촬영 이미지/YOLOv11Dataset/images/train/V006_80_0_00_02_05_25_0_c36_20201117_0089_S01_1.jpg: ignoring corrupt image/label: non-normalized or out of bounds coordinates [     1.3317]\n",
      "\u001b[34m\u001b[1mtrain: \u001b[0m/ardor924/AIHub/과수화상병 촬영 이미지/YOLOv11Dataset/images/train/V006_80_0_00_02_05_25_0_c36_20201117_0090_S01_1.jpg: ignoring corrupt image/label: non-normalized or out of bounds coordinates [     1.3333]\n",
      "\u001b[34m\u001b[1mtrain: \u001b[0m/ardor924/AIHub/과수화상병 촬영 이미지/YOLOv11Dataset/images/train/V006_80_0_00_02_05_25_0_c36_20201117_0091_S01_1.jpg: ignoring corrupt image/label: non-normalized or out of bounds coordinates [     1.3333]\n",
      "\u001b[34m\u001b[1mtrain: \u001b[0m/ardor924/AIHub/과수화상병 촬영 이미지/YOLOv11Dataset/images/train/V006_80_0_00_02_05_25_0_c36_20201117_0092_S01_1.jpg: ignoring corrupt image/label: non-normalized or out of bounds coordinates [     1.3333]\n",
      "\u001b[34m\u001b[1mtrain: \u001b[0m/ardor924/AIHub/과수화상병 촬영 이미지/YOLOv11Dataset/images/train/V006_80_0_00_02_05_25_0_c36_20201117_0093_S01_1.jpg: ignoring corrupt image/label: non-normalized or out of bounds coordinates [     1.3333]\n",
      "\u001b[34m\u001b[1mtrain: \u001b[0m/ardor924/AIHub/과수화상병 촬영 이미지/YOLOv11Dataset/images/train/V006_80_0_00_02_05_25_0_c36_20201117_0095_S01_1.jpg: ignoring corrupt image/label: non-normalized or out of bounds coordinates [     1.3333]\n",
      "\u001b[34m\u001b[1mtrain: \u001b[0m/ardor924/AIHub/과수화상병 촬영 이미지/YOLOv11Dataset/images/train/V006_80_0_00_02_05_25_0_c36_20201117_0096_S01_1.jpg: ignoring corrupt image/label: non-normalized or out of bounds coordinates [     1.3333]\n",
      "\u001b[34m\u001b[1mtrain: \u001b[0m/ardor924/AIHub/과수화상병 촬영 이미지/YOLOv11Dataset/images/train/V006_80_0_00_02_05_25_0_c36_20201117_0097_S01_1.jpg: ignoring corrupt image/label: non-normalized or out of bounds coordinates [     1.3333]\n",
      "\u001b[34m\u001b[1mtrain: \u001b[0m/ardor924/AIHub/과수화상병 촬영 이미지/YOLOv11Dataset/images/train/V006_80_0_00_02_05_25_0_c36_20201117_0098_S01_1.jpg: ignoring corrupt image/label: non-normalized or out of bounds coordinates [     1.3333]\n",
      "\u001b[34m\u001b[1mtrain: \u001b[0m/ardor924/AIHub/과수화상병 촬영 이미지/YOLOv11Dataset/images/train/V006_80_0_00_02_05_25_0_c36_20201117_0099_S01_1.jpg: ignoring corrupt image/label: non-normalized or out of bounds coordinates [     1.3333]\n",
      "\u001b[34m\u001b[1mtrain: \u001b[0m/ardor924/AIHub/과수화상병 촬영 이미지/YOLOv11Dataset/images/train/V006_80_0_00_02_05_25_0_c36_20201117_0101_S01_1.jpg: ignoring corrupt image/label: non-normalized or out of bounds coordinates [     1.3333]\n",
      "\u001b[34m\u001b[1mtrain: \u001b[0m/ardor924/AIHub/과수화상병 촬영 이미지/YOLOv11Dataset/images/train/V006_80_0_00_02_05_25_0_c36_20201117_0102_S01_1.jpg: ignoring corrupt image/label: non-normalized or out of bounds coordinates [     1.3333]\n",
      "\u001b[34m\u001b[1mtrain: \u001b[0m/ardor924/AIHub/과수화상병 촬영 이미지/YOLOv11Dataset/images/train/V006_80_0_00_02_05_25_0_c36_20201117_0103_S01_1.jpg: ignoring corrupt image/label: non-normalized or out of bounds coordinates [     1.3333]\n",
      "\u001b[34m\u001b[1mtrain: \u001b[0m/ardor924/AIHub/과수화상병 촬영 이미지/YOLOv11Dataset/images/train/V006_80_0_00_02_05_25_0_c36_20201117_0104_S01_1.jpg: ignoring corrupt image/label: non-normalized or out of bounds coordinates [     1.3333]\n",
      "\u001b[34m\u001b[1mtrain: \u001b[0m/ardor924/AIHub/과수화상병 촬영 이미지/YOLOv11Dataset/images/train/V006_80_0_00_02_05_25_0_c36_20201117_0105_S01_1.jpg: ignoring corrupt image/label: non-normalized or out of bounds coordinates [     1.3333]\n",
      "\u001b[34m\u001b[1mtrain: \u001b[0m/ardor924/AIHub/과수화상병 촬영 이미지/YOLOv11Dataset/images/train/V006_80_0_00_02_05_25_0_c36_20201117_0106_S01_1.jpg: ignoring corrupt image/label: non-normalized or out of bounds coordinates [     1.3333]\n",
      "\u001b[34m\u001b[1mtrain: \u001b[0m/ardor924/AIHub/과수화상병 촬영 이미지/YOLOv11Dataset/images/train/V006_80_0_00_02_05_25_0_c36_20201117_0107_S01_1.jpg: ignoring corrupt image/label: non-normalized or out of bounds coordinates [     1.3333]\n",
      "\u001b[34m\u001b[1mtrain: \u001b[0m/ardor924/AIHub/과수화상병 촬영 이미지/YOLOv11Dataset/images/train/V006_80_0_00_02_05_25_0_c36_20201117_0108_S01_1.jpg: ignoring corrupt image/label: non-normalized or out of bounds coordinates [     1.3333]\n",
      "\u001b[34m\u001b[1mtrain: \u001b[0m/ardor924/AIHub/과수화상병 촬영 이미지/YOLOv11Dataset/images/train/V006_80_1_01_01_03_23_1_9698b_20200924_56.jpg: ignoring corrupt image/label: non-normalized or out of bounds coordinates [     1.0141]\n",
      "\u001b[34m\u001b[1mtrain: \u001b[0m/ardor924/AIHub/과수화상병 촬영 이미지/YOLOv11Dataset/images/train/V006_80_1_03_02_03_22_2_0103t_20201018_49.JPG: ignoring corrupt image/label: non-normalized or out of bounds coordinates [     1.2715]\n",
      "\u001b[34m\u001b[1mtrain: \u001b[0m/ardor924/AIHub/과수화상병 촬영 이미지/YOLOv11Dataset/images/train/V006_80_1_03_02_03_22_2_8500y_20200917_07.jpg: ignoring corrupt image/label: non-normalized or out of bounds coordinates [     1.3128]\n"
     ]
    },
    {
     "name": "stderr",
     "output_type": "stream",
     "text": [
      "\n"
     ]
    },
    {
     "name": "stdout",
     "output_type": "stream",
     "text": [
      "\u001b[34m\u001b[1mtrain: \u001b[0mNew cache created: /ardor924/AIHub/과수화상병 촬영 이미지/YOLOv11Dataset/labels/train.cache\n",
      "\u001b[34m\u001b[1mval: \u001b[0mFast image access ✅ (ping: 0.0±0.0 ms, read: 17.2±7.3 MB/s, size: 1670.9 KB)\n"
     ]
    },
    {
     "name": "stderr",
     "output_type": "stream",
     "text": [
      "\u001b[34m\u001b[1mval: \u001b[0mScanning /ardor924/AIHub/과수화상병 촬영 이미지/YOLOv11Dataset/labels/val.cache... 3709 images, 0 backgrounds, 12 corrupt: 100%|██████████| 3709/3709 [00:00<?, ?it/s]"
     ]
    },
    {
     "name": "stdout",
     "output_type": "stream",
     "text": [
      "\u001b[34m\u001b[1mval: \u001b[0m/ardor924/AIHub/과수화상병 촬영 이미지/YOLOv11Dataset/images/val/V006_80_0_00_02_04_25_0_c25_20201202_0370_S01_1.jpg: ignoring corrupt image/label: non-normalized or out of bounds coordinates [      1.001]\n",
      "\u001b[34m\u001b[1mval: \u001b[0m/ardor924/AIHub/과수화상병 촬영 이미지/YOLOv11Dataset/images/val/V006_80_0_00_02_04_26_0_c15_201202_0009_S01_4.jpg: corrupt JPEG restored and saved\n",
      "\u001b[34m\u001b[1mval: \u001b[0m/ardor924/AIHub/과수화상병 촬영 이미지/YOLOv11Dataset/images/val/V006_80_0_00_02_04_26_0_c15_20201207_0016_S01_1.jpg: corrupt JPEG restored and saved\n",
      "\u001b[34m\u001b[1mval: \u001b[0m/ardor924/AIHub/과수화상병 촬영 이미지/YOLOv11Dataset/images/val/V006_80_0_00_02_05_25_0_b01_20201117_0001_S01_1.jpg: ignoring corrupt image/label: non-normalized or out of bounds coordinates [     1.3333]\n",
      "\u001b[34m\u001b[1mval: \u001b[0m/ardor924/AIHub/과수화상병 촬영 이미지/YOLOv11Dataset/images/val/V006_80_0_00_02_05_25_0_b01_20201117_0054_S01_1.jpg: ignoring corrupt image/label: non-normalized or out of bounds coordinates [     1.3333]\n",
      "\u001b[34m\u001b[1mval: \u001b[0m/ardor924/AIHub/과수화상병 촬영 이미지/YOLOv11Dataset/images/val/V006_80_0_00_02_05_25_0_b01_20201117_0072_S01_1.jpg: ignoring corrupt image/label: non-normalized or out of bounds coordinates [     1.3333]\n",
      "\u001b[34m\u001b[1mval: \u001b[0m/ardor924/AIHub/과수화상병 촬영 이미지/YOLOv11Dataset/images/val/V006_80_0_00_02_05_25_0_b01_20201117_0075_S01_1.jpg: ignoring corrupt image/label: non-normalized or out of bounds coordinates [     1.3333]\n",
      "\u001b[34m\u001b[1mval: \u001b[0m/ardor924/AIHub/과수화상병 촬영 이미지/YOLOv11Dataset/images/val/V006_80_0_00_02_05_25_0_b01_20201117_0083_S01_1.jpg: ignoring corrupt image/label: non-normalized or out of bounds coordinates [     1.3333]\n",
      "\u001b[34m\u001b[1mval: \u001b[0m/ardor924/AIHub/과수화상병 촬영 이미지/YOLOv11Dataset/images/val/V006_80_0_00_02_05_25_0_b01_20201117_0087_S01_1.jpg: ignoring corrupt image/label: non-normalized or out of bounds coordinates [     1.3333]\n",
      "\u001b[34m\u001b[1mval: \u001b[0m/ardor924/AIHub/과수화상병 촬영 이미지/YOLOv11Dataset/images/val/V006_80_0_00_02_05_25_0_b01_20201117_0099_S01_1.jpg: ignoring corrupt image/label: non-normalized or out of bounds coordinates [     1.3333]\n",
      "\u001b[34m\u001b[1mval: \u001b[0m/ardor924/AIHub/과수화상병 촬영 이미지/YOLOv11Dataset/images/val/V006_80_0_00_02_05_25_0_c36_20201117_0010_S01_1.jpg: ignoring corrupt image/label: non-normalized or out of bounds coordinates [     1.3333]\n",
      "\u001b[34m\u001b[1mval: \u001b[0m/ardor924/AIHub/과수화상병 촬영 이미지/YOLOv11Dataset/images/val/V006_80_0_00_02_05_25_0_c36_20201117_0034_S01_1.jpg: ignoring corrupt image/label: non-normalized or out of bounds coordinates [     1.3333]\n",
      "\u001b[34m\u001b[1mval: \u001b[0m/ardor924/AIHub/과수화상병 촬영 이미지/YOLOv11Dataset/images/val/V006_80_0_00_02_05_25_0_c36_20201117_0056_S01_1.jpg: ignoring corrupt image/label: non-normalized or out of bounds coordinates [     1.3333]\n",
      "\u001b[34m\u001b[1mval: \u001b[0m/ardor924/AIHub/과수화상병 촬영 이미지/YOLOv11Dataset/images/val/V006_80_0_00_02_05_25_0_c36_20201117_0082_S01_1.jpg: ignoring corrupt image/label: non-normalized or out of bounds coordinates [     1.3333]\n"
     ]
    },
    {
     "name": "stderr",
     "output_type": "stream",
     "text": [
      "\n"
     ]
    },
    {
     "name": "stdout",
     "output_type": "stream",
     "text": [
      "Plotting labels to yolov11_results/fruit_disease_detection12/labels.jpg... \n",
      "\u001b[34m\u001b[1moptimizer:\u001b[0m 'optimizer=auto' found, ignoring 'lr0=0.01' and 'momentum=0.937' and determining best 'optimizer', 'lr0' and 'momentum' automatically... \n",
      "\u001b[34m\u001b[1moptimizer:\u001b[0m SGD(lr=0.01, momentum=0.9) with parameter groups 81 weight(decay=0.0), 88 weight(decay=0.0005), 87 bias(decay=0.0)\n",
      "Image sizes 512 train, 512 val\n",
      "Using 8 dataloader workers\n",
      "Logging results to \u001b[1myolov11_results/fruit_disease_detection12\u001b[0m\n",
      "Starting training for 100 epochs...\n",
      "\n",
      "      Epoch    GPU_mem   box_loss   cls_loss   dfl_loss  Instances       Size\n"
     ]
    },
    {
     "name": "stderr",
     "output_type": "stream",
     "text": [
      "      1/100      1.29G     0.9461      1.696      1.244          8        512: 100%|██████████| 7385/7385 [33:15<00:00,  3.70it/s]\n",
      "                 Class     Images  Instances      Box(P          R      mAP50  mAP50-95): 100%|██████████| 232/232 [01:56<00:00,  1.99it/s]\n"
     ]
    },
    {
     "name": "stdout",
     "output_type": "stream",
     "text": [
      "                   all       3697       3697      0.817      0.642      0.718      0.553\n",
      "\n",
      "      Epoch    GPU_mem   box_loss   cls_loss   dfl_loss  Instances       Size\n"
     ]
    },
    {
     "name": "stderr",
     "output_type": "stream",
     "text": [
      "      2/100      1.42G     0.9627      1.196      1.235         11        512: 100%|██████████| 7385/7385 [33:20<00:00,  3.69it/s] \n",
      "                 Class     Images  Instances      Box(P          R      mAP50  mAP50-95): 100%|██████████| 232/232 [02:04<00:00,  1.86it/s]\n"
     ]
    },
    {
     "name": "stdout",
     "output_type": "stream",
     "text": [
      "                   all       3697       3697      0.817      0.645      0.734      0.569\n",
      "\n",
      "      Epoch    GPU_mem   box_loss   cls_loss   dfl_loss  Instances       Size\n"
     ]
    },
    {
     "name": "stderr",
     "output_type": "stream",
     "text": [
      "      3/100      1.42G      1.019      1.164      1.266          9        512: 100%|██████████| 7385/7385 [34:28<00:00,  3.57it/s] \n",
      "                 Class     Images  Instances      Box(P          R      mAP50  mAP50-95): 100%|██████████| 232/232 [02:02<00:00,  1.89it/s]\n"
     ]
    },
    {
     "name": "stdout",
     "output_type": "stream",
     "text": [
      "                   all       3697       3697      0.849      0.642      0.728      0.559\n",
      "\n",
      "      Epoch    GPU_mem   box_loss   cls_loss   dfl_loss  Instances       Size\n"
     ]
    },
    {
     "name": "stderr",
     "output_type": "stream",
     "text": [
      "      4/100      1.42G       1.01      1.111      1.261          9        512: 100%|██████████| 7385/7385 [33:42<00:00,  3.65it/s]\n",
      "                 Class     Images  Instances      Box(P          R      mAP50  mAP50-95): 100%|██████████| 232/232 [02:07<00:00,  1.82it/s]\n"
     ]
    },
    {
     "name": "stdout",
     "output_type": "stream",
     "text": [
      "                   all       3697       3697       0.89      0.664      0.759      0.594\n",
      "\n",
      "      Epoch    GPU_mem   box_loss   cls_loss   dfl_loss  Instances       Size\n"
     ]
    },
    {
     "name": "stderr",
     "output_type": "stream",
     "text": [
      "      5/100      1.42G     0.9502      1.016      1.228          9        512: 100%|██████████| 7385/7385 [34:33<00:00,  3.56it/s] \n",
      "                 Class     Images  Instances      Box(P          R      mAP50  mAP50-95): 100%|██████████| 232/232 [02:07<00:00,  1.82it/s]"
     ]
    },
    {
     "name": "stdout",
     "output_type": "stream",
     "text": [
      "                   all       3697       3697      0.868      0.696      0.777      0.613\n"
     ]
    },
    {
     "name": "stderr",
     "output_type": "stream",
     "text": [
      "\n"
     ]
    },
    {
     "name": "stdout",
     "output_type": "stream",
     "text": [
      "\n",
      "      Epoch    GPU_mem   box_loss   cls_loss   dfl_loss  Instances       Size\n"
     ]
    },
    {
     "name": "stderr",
     "output_type": "stream",
     "text": [
      "      6/100      1.42G     0.9153     0.9645      1.208          8        512: 100%|██████████| 7385/7385 [32:57<00:00,  3.73it/s] \n",
      "                 Class     Images  Instances      Box(P          R      mAP50  mAP50-95): 100%|██████████| 232/232 [02:03<00:00,  1.87it/s]\n"
     ]
    },
    {
     "name": "stdout",
     "output_type": "stream",
     "text": [
      "                   all       3697       3697      0.841      0.718      0.785      0.623\n",
      "\n",
      "      Epoch    GPU_mem   box_loss   cls_loss   dfl_loss  Instances       Size\n"
     ]
    },
    {
     "name": "stderr",
     "output_type": "stream",
     "text": [
      "      7/100      1.42G     0.8943     0.9305        1.2          7        512: 100%|██████████| 7385/7385 [33:45<00:00,  3.65it/s]  \n",
      "                 Class     Images  Instances      Box(P          R      mAP50  mAP50-95): 100%|██████████| 232/232 [02:09<00:00,  1.79it/s]"
     ]
    },
    {
     "name": "stdout",
     "output_type": "stream",
     "text": [
      "                   all       3697       3697      0.876        0.7      0.784      0.629\n"
     ]
    },
    {
     "name": "stderr",
     "output_type": "stream",
     "text": [
      "\n"
     ]
    },
    {
     "name": "stdout",
     "output_type": "stream",
     "text": [
      "\n",
      "      Epoch    GPU_mem   box_loss   cls_loss   dfl_loss  Instances       Size\n"
     ]
    },
    {
     "name": "stderr",
     "output_type": "stream",
     "text": [
      "      8/100      1.42G     0.8783     0.9085      1.191          9        512: 100%|██████████| 7385/7385 [33:57<00:00,  3.62it/s]  \n",
      "                 Class     Images  Instances      Box(P          R      mAP50  mAP50-95):  10%|█         | 24/232 [00:23<07:48,  2.25s/it]"
     ]
    },
    {
     "name": "stdout",
     "output_type": "stream",
     "text": [
      "WARNING ⚠️ NMS time limit 2.800s exceeded\n"
     ]
    },
    {
     "name": "stderr",
     "output_type": "stream",
     "text": [
      "                 Class     Images  Instances      Box(P          R      mAP50  mAP50-95): 100%|██████████| 232/232 [02:34<00:00,  1.50it/s]\n"
     ]
    },
    {
     "name": "stdout",
     "output_type": "stream",
     "text": [
      "                   all       3697       3697      0.854      0.725      0.797      0.641\n",
      "\n",
      "      Epoch    GPU_mem   box_loss   cls_loss   dfl_loss  Instances       Size\n"
     ]
    },
    {
     "name": "stderr",
     "output_type": "stream",
     "text": [
      "      9/100      1.42G     0.8673     0.8913      1.185         10        512: 100%|██████████| 7385/7385 [35:40<00:00,  3.45it/s]  \n",
      "                 Class     Images  Instances      Box(P          R      mAP50  mAP50-95):  13%|█▎        | 31/232 [00:02<00:12, 15.63it/s]"
     ]
    },
    {
     "name": "stdout",
     "output_type": "stream",
     "text": [
      "WARNING ⚠️ NMS time limit 2.800s exceeded\n"
     ]
    },
    {
     "name": "stderr",
     "output_type": "stream",
     "text": [
      "                 Class     Images  Instances      Box(P          R      mAP50  mAP50-95): 100%|██████████| 232/232 [02:35<00:00,  1.49it/s]\n"
     ]
    },
    {
     "name": "stdout",
     "output_type": "stream",
     "text": [
      "                   all       3697       3697      0.889      0.718        0.8      0.644\n",
      "\n",
      "      Epoch    GPU_mem   box_loss   cls_loss   dfl_loss  Instances       Size\n"
     ]
    },
    {
     "name": "stderr",
     "output_type": "stream",
     "text": [
      "     10/100      1.42G     0.8527     0.8751      1.176         13        512: 100%|██████████| 7385/7385 [33:49<00:00,  3.64it/s] \n",
      "                 Class     Images  Instances      Box(P          R      mAP50  mAP50-95): 100%|██████████| 232/232 [01:59<00:00,  1.94it/s]\n"
     ]
    },
    {
     "name": "stdout",
     "output_type": "stream",
     "text": [
      "                   all       3697       3697      0.861      0.732      0.803      0.646\n",
      "\n",
      "      Epoch    GPU_mem   box_loss   cls_loss   dfl_loss  Instances       Size\n"
     ]
    },
    {
     "name": "stderr",
     "output_type": "stream",
     "text": [
      "     11/100      1.42G     0.8444      0.864      1.173          7        512: 100%|██████████| 7385/7385 [33:43<00:00,  3.65it/s] \n",
      "                 Class     Images  Instances      Box(P          R      mAP50  mAP50-95): 100%|██████████| 232/232 [02:12<00:00,  1.75it/s]\n"
     ]
    },
    {
     "name": "stdout",
     "output_type": "stream",
     "text": [
      "                   all       3697       3697      0.848      0.741      0.806      0.651\n",
      "\n",
      "      Epoch    GPU_mem   box_loss   cls_loss   dfl_loss  Instances       Size\n"
     ]
    },
    {
     "name": "stderr",
     "output_type": "stream",
     "text": [
      "     12/100      1.42G     0.8352     0.8504      1.169         11        512: 100%|██████████| 7385/7385 [34:18<00:00,  3.59it/s] \n",
      "                 Class     Images  Instances      Box(P          R      mAP50  mAP50-95): 100%|██████████| 232/232 [01:59<00:00,  1.95it/s]\n"
     ]
    },
    {
     "name": "stdout",
     "output_type": "stream",
     "text": [
      "                   all       3697       3697      0.893      0.718      0.805       0.65\n",
      "\n",
      "      Epoch    GPU_mem   box_loss   cls_loss   dfl_loss  Instances       Size\n"
     ]
    },
    {
     "name": "stderr",
     "output_type": "stream",
     "text": [
      "     13/100      1.42G     0.8281     0.8449      1.164         10        512: 100%|██████████| 7385/7385 [34:17<00:00,  3.59it/s]  \n",
      "                 Class     Images  Instances      Box(P          R      mAP50  mAP50-95): 100%|██████████| 232/232 [02:20<00:00,  1.66it/s]"
     ]
    },
    {
     "name": "stdout",
     "output_type": "stream",
     "text": [
      "                   all       3697       3697      0.893      0.717      0.807      0.655\n"
     ]
    },
    {
     "name": "stderr",
     "output_type": "stream",
     "text": [
      "\n"
     ]
    },
    {
     "name": "stdout",
     "output_type": "stream",
     "text": [
      "\n",
      "      Epoch    GPU_mem   box_loss   cls_loss   dfl_loss  Instances       Size\n"
     ]
    },
    {
     "name": "stderr",
     "output_type": "stream",
     "text": [
      "     14/100      1.42G     0.8233     0.8324      1.164         15        512: 100%|██████████| 7385/7385 [35:13<00:00,  3.49it/s] \n",
      "                 Class     Images  Instances      Box(P          R      mAP50  mAP50-95): 100%|██████████| 232/232 [02:02<00:00,  1.90it/s]\n"
     ]
    },
    {
     "name": "stdout",
     "output_type": "stream",
     "text": [
      "                   all       3697       3697      0.888       0.72      0.806      0.655\n",
      "\n",
      "      Epoch    GPU_mem   box_loss   cls_loss   dfl_loss  Instances       Size\n"
     ]
    },
    {
     "name": "stderr",
     "output_type": "stream",
     "text": [
      "     15/100      1.42G     0.8212     0.8289      1.159          8        512: 100%|██████████| 7385/7385 [35:42<00:00,  3.45it/s]  \n",
      "                 Class     Images  Instances      Box(P          R      mAP50  mAP50-95): 100%|██████████| 232/232 [01:57<00:00,  1.97it/s]\n"
     ]
    },
    {
     "name": "stdout",
     "output_type": "stream",
     "text": [
      "                   all       3697       3697      0.884      0.722      0.807      0.656\n",
      "\n",
      "      Epoch    GPU_mem   box_loss   cls_loss   dfl_loss  Instances       Size\n"
     ]
    },
    {
     "name": "stderr",
     "output_type": "stream",
     "text": [
      "     16/100      1.42G     0.8137     0.8158      1.155         13        512: 100%|██████████| 7385/7385 [30:07<00:00,  4.08it/s]\n",
      "                 Class     Images  Instances      Box(P          R      mAP50  mAP50-95): 100%|██████████| 232/232 [01:59<00:00,  1.94it/s]\n"
     ]
    },
    {
     "name": "stdout",
     "output_type": "stream",
     "text": [
      "                   all       3697       3697      0.887      0.722      0.809      0.657\n",
      "\n",
      "      Epoch    GPU_mem   box_loss   cls_loss   dfl_loss  Instances       Size\n"
     ]
    },
    {
     "name": "stderr",
     "output_type": "stream",
     "text": [
      "     17/100      1.42G      0.812     0.8162      1.156         12        512: 100%|██████████| 7385/7385 [31:52<00:00,  3.86it/s] \n",
      "                 Class     Images  Instances      Box(P          R      mAP50  mAP50-95): 100%|██████████| 232/232 [01:59<00:00,  1.94it/s]"
     ]
    },
    {
     "name": "stdout",
     "output_type": "stream",
     "text": [
      "                   all       3697       3697      0.895      0.719      0.809      0.658\n"
     ]
    },
    {
     "name": "stderr",
     "output_type": "stream",
     "text": [
      "\n"
     ]
    },
    {
     "name": "stdout",
     "output_type": "stream",
     "text": [
      "\n",
      "      Epoch    GPU_mem   box_loss   cls_loss   dfl_loss  Instances       Size\n"
     ]
    },
    {
     "name": "stderr",
     "output_type": "stream",
     "text": [
      "     18/100      1.42G     0.8084     0.8097      1.153         12        512: 100%|██████████| 7385/7385 [32:39<00:00,  3.77it/s] \n",
      "                 Class     Images  Instances      Box(P          R      mAP50  mAP50-95): 100%|██████████| 232/232 [02:04<00:00,  1.86it/s]"
     ]
    },
    {
     "name": "stdout",
     "output_type": "stream",
     "text": [
      "                   all       3697       3697      0.863      0.739       0.81      0.658\n"
     ]
    },
    {
     "name": "stderr",
     "output_type": "stream",
     "text": [
      "\n"
     ]
    },
    {
     "name": "stdout",
     "output_type": "stream",
     "text": [
      "\n",
      "      Epoch    GPU_mem   box_loss   cls_loss   dfl_loss  Instances       Size\n"
     ]
    },
    {
     "name": "stderr",
     "output_type": "stream",
     "text": [
      "     19/100      1.42G     0.8054     0.8063      1.153         10        512: 100%|██████████| 7385/7385 [33:13<00:00,  3.70it/s]\n",
      "                 Class     Images  Instances      Box(P          R      mAP50  mAP50-95): 100%|██████████| 232/232 [02:01<00:00,  1.90it/s]\n"
     ]
    },
    {
     "name": "stdout",
     "output_type": "stream",
     "text": [
      "                   all       3697       3697      0.896      0.719      0.811      0.659\n",
      "\n",
      "      Epoch    GPU_mem   box_loss   cls_loss   dfl_loss  Instances       Size\n"
     ]
    },
    {
     "name": "stderr",
     "output_type": "stream",
     "text": [
      "     20/100      1.42G     0.8012      0.808      1.151          6        512: 100%|██████████| 7385/7385 [32:30<00:00,  3.79it/s]  \n",
      "                 Class     Images  Instances      Box(P          R      mAP50  mAP50-95): 100%|██████████| 232/232 [02:00<00:00,  1.92it/s]\n"
     ]
    },
    {
     "name": "stdout",
     "output_type": "stream",
     "text": [
      "                   all       3697       3697      0.895      0.725      0.811       0.66\n",
      "\n",
      "      Epoch    GPU_mem   box_loss   cls_loss   dfl_loss  Instances       Size\n"
     ]
    },
    {
     "name": "stderr",
     "output_type": "stream",
     "text": [
      "     21/100      1.42G      0.801     0.8034      1.152          7        512: 100%|██████████| 7385/7385 [33:38<00:00,  3.66it/s] \n",
      "                 Class     Images  Instances      Box(P          R      mAP50  mAP50-95): 100%|██████████| 232/232 [02:05<00:00,  1.85it/s]\n"
     ]
    },
    {
     "name": "stdout",
     "output_type": "stream",
     "text": [
      "                   all       3697       3697      0.887       0.73      0.811       0.66\n",
      "\n",
      "      Epoch    GPU_mem   box_loss   cls_loss   dfl_loss  Instances       Size\n"
     ]
    },
    {
     "name": "stderr",
     "output_type": "stream",
     "text": [
      "     22/100      1.42G     0.7988     0.7928      1.148         13        512: 100%|██████████| 7385/7385 [33:06<00:00,  3.72it/s]\n",
      "                 Class     Images  Instances      Box(P          R      mAP50  mAP50-95): 100%|██████████| 232/232 [02:16<00:00,  1.69it/s]"
     ]
    },
    {
     "name": "stdout",
     "output_type": "stream",
     "text": [
      "                   all       3697       3697      0.893      0.725      0.812      0.661\n"
     ]
    },
    {
     "name": "stderr",
     "output_type": "stream",
     "text": [
      "\n"
     ]
    },
    {
     "name": "stdout",
     "output_type": "stream",
     "text": [
      "\n",
      "      Epoch    GPU_mem   box_loss   cls_loss   dfl_loss  Instances       Size\n"
     ]
    },
    {
     "name": "stderr",
     "output_type": "stream",
     "text": [
      "     23/100      1.42G     0.7927     0.7894      1.145         10        512: 100%|██████████| 7385/7385 [34:12<00:00,  3.60it/s]\n",
      "                 Class     Images  Instances      Box(P          R      mAP50  mAP50-95):   9%|▉         | 21/232 [00:01<00:22,  9.34it/s]"
     ]
    },
    {
     "name": "stdout",
     "output_type": "stream",
     "text": [
      "WARNING ⚠️ NMS time limit 2.800s exceeded\n"
     ]
    },
    {
     "name": "stderr",
     "output_type": "stream",
     "text": [
      "                 Class     Images  Instances      Box(P          R      mAP50  mAP50-95):   9%|▉         | 21/232 [00:18<00:22,  9.34it/s]"
     ]
    },
    {
     "name": "stdout",
     "output_type": "stream",
     "text": [
      "WARNING ⚠️ NMS time limit 2.800s exceeded\n"
     ]
    },
    {
     "name": "stderr",
     "output_type": "stream",
     "text": [
      "                 Class     Images  Instances      Box(P          R      mAP50  mAP50-95): 100%|██████████| 232/232 [02:40<00:00,  1.44it/s]\n"
     ]
    },
    {
     "name": "stdout",
     "output_type": "stream",
     "text": [
      "                   all       3697       3697      0.879      0.736      0.812       0.66\n",
      "\n",
      "      Epoch    GPU_mem   box_loss   cls_loss   dfl_loss  Instances       Size\n"
     ]
    },
    {
     "name": "stderr",
     "output_type": "stream",
     "text": [
      "     24/100      1.42G     0.7905     0.7886      1.145         11        512: 100%|██████████| 7385/7385 [33:58<00:00,  3.62it/s] \n",
      "                 Class     Images  Instances      Box(P          R      mAP50  mAP50-95):   9%|▊         | 20/232 [00:01<00:13, 16.01it/s]"
     ]
    },
    {
     "name": "stdout",
     "output_type": "stream",
     "text": [
      "WARNING ⚠️ NMS time limit 2.800s exceeded\n"
     ]
    },
    {
     "name": "stderr",
     "output_type": "stream",
     "text": [
      "                 Class     Images  Instances      Box(P          R      mAP50  mAP50-95): 100%|██████████| 232/232 [02:31<00:00,  1.53it/s]\n"
     ]
    },
    {
     "name": "stdout",
     "output_type": "stream",
     "text": [
      "                   all       3697       3697       0.87       0.74      0.813      0.662\n",
      "\n",
      "      Epoch    GPU_mem   box_loss   cls_loss   dfl_loss  Instances       Size\n"
     ]
    },
    {
     "name": "stderr",
     "output_type": "stream",
     "text": [
      "     25/100      1.42G     0.7894     0.7854      1.146         10        512: 100%|██████████| 7385/7385 [34:27<00:00,  3.57it/s]\n",
      "                 Class     Images  Instances      Box(P          R      mAP50  mAP50-95): 100%|██████████| 232/232 [02:20<00:00,  1.65it/s]\n"
     ]
    },
    {
     "name": "stdout",
     "output_type": "stream",
     "text": [
      "                   all       3697       3697      0.884      0.735      0.813      0.663\n",
      "\n",
      "      Epoch    GPU_mem   box_loss   cls_loss   dfl_loss  Instances       Size\n"
     ]
    },
    {
     "name": "stderr",
     "output_type": "stream",
     "text": [
      "     26/100      1.42G     0.7878     0.7777      1.142         11        512: 100%|██████████| 7385/7385 [33:40<00:00,  3.66it/s]\n",
      "                 Class     Images  Instances      Box(P          R      mAP50  mAP50-95):   7%|▋         | 16/232 [00:01<00:15, 14.03it/s]"
     ]
    },
    {
     "name": "stdout",
     "output_type": "stream",
     "text": [
      "WARNING ⚠️ NMS time limit 2.800s exceeded\n"
     ]
    },
    {
     "name": "stderr",
     "output_type": "stream",
     "text": [
      "                 Class     Images  Instances      Box(P          R      mAP50  mAP50-95):  10%|▉         | 23/232 [00:26<06:33,  1.88s/it]"
     ]
    },
    {
     "name": "stdout",
     "output_type": "stream",
     "text": [
      "WARNING ⚠️ NMS time limit 2.800s exceeded\n"
     ]
    },
    {
     "name": "stderr",
     "output_type": "stream",
     "text": [
      "                 Class     Images  Instances      Box(P          R      mAP50  mAP50-95): 100%|██████████| 232/232 [02:20<00:00,  1.65it/s]\n"
     ]
    },
    {
     "name": "stdout",
     "output_type": "stream",
     "text": [
      "                   all       3697       3697      0.872      0.736      0.809      0.661\n",
      "\n",
      "      Epoch    GPU_mem   box_loss   cls_loss   dfl_loss  Instances       Size\n"
     ]
    },
    {
     "name": "stderr",
     "output_type": "stream",
     "text": [
      "     27/100      1.42G     0.7836     0.7819       1.14          9        512: 100%|██████████| 7385/7385 [33:25<00:00,  3.68it/s] \n",
      "                 Class     Images  Instances      Box(P          R      mAP50  mAP50-95): 100%|██████████| 232/232 [02:04<00:00,  1.87it/s]\n"
     ]
    },
    {
     "name": "stdout",
     "output_type": "stream",
     "text": [
      "                   all       3697       3697      0.885      0.735      0.813      0.664\n",
      "\n",
      "      Epoch    GPU_mem   box_loss   cls_loss   dfl_loss  Instances       Size\n"
     ]
    },
    {
     "name": "stderr",
     "output_type": "stream",
     "text": [
      "     28/100      1.42G     0.7783     0.7734      1.138          9        512: 100%|██████████| 7385/7385 [34:26<00:00,  3.57it/s]  \n",
      "                 Class     Images  Instances      Box(P          R      mAP50  mAP50-95): 100%|██████████| 232/232 [02:04<00:00,  1.86it/s]"
     ]
    },
    {
     "name": "stdout",
     "output_type": "stream",
     "text": [
      "                   all       3697       3697      0.872      0.741      0.813      0.665\n"
     ]
    },
    {
     "name": "stderr",
     "output_type": "stream",
     "text": [
      "\n"
     ]
    },
    {
     "name": "stdout",
     "output_type": "stream",
     "text": [
      "\n",
      "      Epoch    GPU_mem   box_loss   cls_loss   dfl_loss  Instances       Size\n"
     ]
    },
    {
     "name": "stderr",
     "output_type": "stream",
     "text": [
      "     29/100      1.42G     0.7839     0.7789      1.141         22        512:  30%|██▉       | 2200/7385 [08:26<13:50,  6.24it/s]  "
     ]
    }
   ],
   "source": [
    "\n",
    "# 1. YOLO 모델 정의 및 훈련\n",
    "def train_yolo():\n",
    "    try:\n",
    "        # YOLOv11n\n",
    "        model = YOLO('yolo11n.pt') \n",
    "    except Exception as e:\n",
    "        print(f\"Error initializing YOLO model: {e}\")\n",
    "        print(\"Please ensure you have an internet connection to download the model weights.\")\n",
    "        return None\n",
    "\n",
    "    # 훈련 설정\n",
    "    train_args = {\n",
    "        'data': './YOLOv11Dataset/dataset.yaml',\n",
    "        'epochs': epochs, # 적정에폭 50~100\n",
    "        'batch': batch, # A100사용시\n",
    "        'imgsz': imgsz,\n",
    "        'device': 0 if device.type == 'cuda' else 'cpu',\n",
    "        'workers': 8,\n",
    "        'project': 'yolov11_results',\n",
    "        'name': 'fruit_disease_detection',\n",
    "        'save_period': save_period,  # 10 epoch마다 체크포인트 저장\n",
    "        'patience': patience,     # 50 epoch 동안 개선 없으면 조기 종료 (epochs보다 크거나 같게 설정)\n",
    "        'optimizer': 'auto',  # AdamW, SGD, Adam 등\n",
    "        'lr0': 0.01,         # 초기 학습률\n",
    "        'lrf': 0.01,         # 최종 학습률 = lr0 * lrf\n",
    "        'weight_decay': 0.0005\n",
    "\n",
    "    }\n",
    "\n",
    "    project_dir = train_args['project']\n",
    "    exp_name = train_args['name']\n",
    "    \n",
    "    print(f\"Starting YOLO training with settings: {train_args}\")\n",
    "\n",
    "    try:\n",
    "        # 훈련 실행 (Ultralytics의 train 함수는 자체적으로 진행 바를 제공합니다.)\n",
    "        results_trainer = model.train(**train_args)\n",
    "        print(\"Training completed.\")\n",
    "\n",
    "        # Ultralytics 8.x+ 버전에서는 Trainer 객체가 반환되며, save_dir을 바로 사용할 수 있습니다.\n",
    "        if hasattr(results_trainer, 'save_dir') and results_trainer.save_dir:\n",
    "            actual_run_dir = Path(results_trainer.save_dir)\n",
    "            print(f\"Training results saved to: {actual_run_dir}\")\n",
    "        else:\n",
    "            print(\"Warning: Could not get save_dir directly from results_trainer. Searching for the latest run directory based on project/name pattern.\")\n",
    "            \n",
    "            project_path = Path(project_dir)\n",
    "            \n",
    "            if not project_path.exists():\n",
    "                print(f\"Error: Project directory '{project_path}' was not created during training.\")\n",
    "                return None\n",
    "            \n",
    "            # project/name 또는 project/name_N 패턴을 따르는 디렉토리들을 찾습니다.\n",
    "            potential_run_dirs = sorted([d for d in project_path.iterdir() if d.is_dir() and (d.name == exp_name or d.name.startswith(f\"{exp_name}\"))],\n",
    "                                         key=os.path.getmtime, reverse=True)\n",
    "            \n",
    "            if potential_run_dirs:\n",
    "                actual_run_dir = potential_run_dirs[0]\n",
    "                print(f\"Identified potential run directory: {actual_run_dir}\")\n",
    "            else:\n",
    "                print(f\"Error: Could not find any run directory within '{project_path}' matching name '{exp_name}' pattern.\")\n",
    "                return None\n",
    "\n",
    "        # 실제 실행 디렉토리 내에서 best.pt 경로 구성\n",
    "        best_model_path = actual_run_dir / 'weights' / 'best.pt'\n",
    "\n",
    "        # 훈련 후 파일이 존재하는지 최종 확인\n",
    "        if not best_model_path.exists():\n",
    "            print(f\"Error: Best model file 'best.pt' not found at expected path: {best_model_path}\")\n",
    "            print(\"Training might not have completed successfully or the path logic is incorrect.\")\n",
    "            # 훈련은 완료되었지만 best.pt가 없는 경우 (예: 짧은 epochs) last.pt를 대신 사용해 볼 수 있습니다.\n",
    "            last_model_path = actual_run_dir / 'weights' / 'last.pt'\n",
    "            if last_model_path.exists():\n",
    "                print(f\"Warning: 'best.pt' not found, using 'last.pt' instead: {last_model_path}\")\n",
    "                best_model_path = last_model_path\n",
    "            else:\n",
    "                print(f\"Error: Neither 'best.pt' nor 'last.pt' found in {actual_run_dir / 'weights'}\")\n",
    "                return None\n",
    "\n",
    "        print(f\"Best model path found at: {best_model_path}\")\n",
    "        return str(best_model_path)\n",
    "\n",
    "    except Exception as e:\n",
    "        print(f\"An error occurred during training: {e}\")\n",
    "        return None\n",
    "\n",
    "\n",
    "# 2. 모델 검증 (split_type 인자 추가)\n",
    "def validate_model(model_path, split_type='val'):\n",
    "    if not model_path or not Path(model_path).exists():\n",
    "        print(f\"Error: Invalid or non-existent model path provided for validation: {model_path}\")\n",
    "        return None\n",
    "\n",
    "    try:\n",
    "        model = YOLO(model_path)\n",
    "    except Exception as e:\n",
    "        print(f\"Error loading model for validation from {model_path}: {e}\")\n",
    "        return None\n",
    "\n",
    "    val_args = {\n",
    "        'data': './YOLOv11Dataset/dataset.yaml',\n",
    "        'split': split_type,\n",
    "        'imgsz': imgsz,\n",
    "        'batch': batch,\n",
    "        'conf': 0.25,\n",
    "        'iou': 0.45,\n",
    "        'device': 0 if device.type == 'cuda' else 'cpu',\n",
    "        'plots': True\n",
    "    }\n",
    "\n",
    "    print(f\"Starting model validation on '{split_type}' split...\")\n",
    "    try:\n",
    "        # validate 함수도 자체 진행 바를 제공합니다.\n",
    "        metrics = model.val(**val_args)\n",
    "        print(f\"\\nValidation Results for '{split_type}' split:\")\n",
    "        print(f\"mAP@0.5: {metrics.box.map:.4f}\")\n",
    "        print(f\"mAP@0.5:0.95: {metrics.box.map50:.4f}\")\n",
    "        print(f\"Precision: {metrics.box.precision.mean():.4f}\")\n",
    "        print(f\"Recall: {metrics.box.recall.mean():.4f}\")\n",
    "        return metrics\n",
    "    except Exception as e:\n",
    "        print(f\"An error occurred during validation on '{split_type}' split: {e}\")\n",
    "        return None\n",
    "\n",
    "\n",
    "# 3. 예측 및 시각화\n",
    "def predict_and_visualize(model_path, source_dir='./YOLOv11Dataset/images/test', save_dir='predictions'):\n",
    "    if not model_path or not Path(model_path).exists():\n",
    "        print(f\"Error: Invalid or non-existent model path provided for prediction: {model_path}\")\n",
    "        return None\n",
    "\n",
    "    # 디렉토리 생성\n",
    "    save_path = Path(save_dir)\n",
    "    save_path.mkdir(exist_ok=True)\n",
    "\n",
    "    # 모델 로드\n",
    "    try:\n",
    "        model = YOLO(model_path)\n",
    "    except Exception as e:\n",
    "        print(f\"Error loading model for prediction from {model_path}: {e}\")\n",
    "        return None\n",
    "\n",
    "    # 클래스 이름 매핑\n",
    "    class_names = {\n",
    "        0: '정상',\n",
    "        1: '배검은별무니병',\n",
    "        2: '배과수화상병',\n",
    "        3: '사과갈색무늬병',\n",
    "        4: '사과과수화상병',\n",
    "        5: '사과부란병',\n",
    "        6: '사과점무늬낙엽병',\n",
    "        7: '사과탄저병'\n",
    "    }\n",
    "\n",
    "    # 색상 매핑 (BGR 형식)\n",
    "    colors = {\n",
    "        0: (0, 255, 0),    # 녹색: 정상 배\n",
    "        1: (0, 0, 255),    # 빨강: 질병 배\n",
    "        2: (0, 255, 255),  # 노랑: 정상 사과\n",
    "        3: (255, 0, 0)     # 파랑: 질병 사과\n",
    "    }\n",
    "\n",
    "    # 예측 설정\n",
    "    conf_threshold = 0.5  # 신뢰도 임계값\n",
    "\n",
    "    # 테스트 이미지에 대한 예측\n",
    "    test_images = list(Path(source_dir).glob('*.jpg'))\n",
    "    if not test_images:\n",
    "        print(f\"Warning: No images found in source directory: {source_dir}\")\n",
    "        return\n",
    "\n",
    "    print(f\"Running predictions on {len(test_images)} test images...\")\n",
    "\n",
    "    # tqdm으로 진행 바 추가\n",
    "    for img_path in tqdm(test_images, desc=\"Processing Test Images\", unit=\"image\"):\n",
    "        # 이미지 로드\n",
    "        img = cv2.imread(str(img_path))\n",
    "        if img is None:\n",
    "            print(f\"Warning: Could not read image: {img_path}. Skipping.\")\n",
    "            continue\n",
    "\n",
    "        img_rgb = cv2.cvtColor(img, cv2.COLOR_BGR2RGB)\n",
    "\n",
    "        # 예측 수행\n",
    "        try:\n",
    "            results = model.predict(\n",
    "                source=img_rgb,\n",
    "                conf=conf_threshold,\n",
    "                imgsz=imgsz,\n",
    "                device=device,\n",
    "                verbose=False # 예측 중 출력을 줄입니다.\n",
    "            )\n",
    "        except Exception as e:\n",
    "            print(f\"Error during prediction for image {img_path}: {e}\")\n",
    "            continue\n",
    "\n",
    "        # 결과 시각화 및 출력\n",
    "        result_img = img.copy()\n",
    "        \n",
    "        print(f\"\\n--- Predictions for {img_path.name} ---\")\n",
    "        detections_found = False # 예측된 객체가 있는지 확인하는 플래그\n",
    "\n",
    "        if results and len(results) > 0 and hasattr(results[0], 'boxes'):\n",
    "            for box in results[0].boxes:\n",
    "                x1, y1, x2, y2 = box.xyxy[0].cpu().tolist()\n",
    "                class_id = int(box.cls)\n",
    "                conf = box.conf.item()\n",
    "\n",
    "                # 예측 결과 텍스트 출력\n",
    "                class_name = class_names.get(class_id, f'클래스 {class_id}')\n",
    "                print(f\"  Detected: {class_name}, Confidence: {conf:.4f}, BBox: [{int(x1)}, {int(y1)}, {int(x2)}, {int(y2)}]\")\n",
    "                detections_found = True\n",
    "\n",
    "                # 박스 그리기\n",
    "                cv2.rectangle(\n",
    "                    result_img,\n",
    "                    (int(x1), int(y1)),\n",
    "                    (int(x2), int(y2)),\n",
    "                    colors.get(class_id, (255, 255, 255)),\n",
    "                    2\n",
    "                )\n",
    "\n",
    "                # 라벨 텍스트\n",
    "                label = f\"{class_name}: {conf:.2f}\"\n",
    "\n",
    "                # 라벨 배경\n",
    "                (label_width, label_height), _ = cv2.getTextSize(\n",
    "                    label, cv2.FONT_HERSHEY_SIMPLEX, 0.5, 1\n",
    "                )\n",
    "                label_bg_x1 = int(x1)\n",
    "                label_bg_y1 = int(y1) - label_height - 5\n",
    "                label_bg_x2 = int(x1) + label_width\n",
    "                label_bg_y2 = int(y1)\n",
    "                label_bg_y1 = max(0, label_bg_y1)\n",
    "                label_bg_y2 = max(label_height + 5, label_bg_y2)\n",
    "\n",
    "                cv2.rectangle(\n",
    "                    result_img,\n",
    "                    (label_bg_x1, label_bg_y1),\n",
    "                    (label_bg_x2, label_bg_y2),\n",
    "                    colors.get(class_id, (255, 255, 255)),\n",
    "                    -1\n",
    "                )\n",
    "\n",
    "                # 라벨 텍스트\n",
    "                cv2.putText(\n",
    "                    result_img,\n",
    "                    label,\n",
    "                    (int(x1), int(y1) - 5 if int(y1) - 5 > label_bg_y1 else label_bg_y2 - 5),\n",
    "                    cv2.FONT_HERSHEY_SIMPLEX,\n",
    "                    0.5,\n",
    "                    (255, 255, 255),\n",
    "                    1\n",
    "                )\n",
    "        \n",
    "        if not detections_found:\n",
    "            print(\"  No objects detected.\")\n",
    "\n",
    "        # 결과 저장\n",
    "        output_path = save_path / f\"pred_{img_path.name}\"\n",
    "        try:\n",
    "            cv2.imwrite(str(output_path), result_img)\n",
    "        except Exception as e:\n",
    "            print(f\"Error saving image {output_path}: {e}\")\n",
    "\n",
    "        # 결과 표시 (첫 5개 이미지만)\n",
    "        if test_images.index(img_path) < 5: # 인덱스 직접 접근은 tqdm과 함께 사용 시 비효율적일 수 있으나, 여기서는 작은 목록이므로 큰 문제 없음.\n",
    "            plt.figure(figsize=(12, 8))\n",
    "            plt.imshow(cv2.cvtColor(result_img, cv2.COLOR_BGR2RGB))\n",
    "            plt.title(f\"Predictions: {img_path.name}\")\n",
    "            plt.axis('off')\n",
    "            plt.show()\n",
    "\n",
    "    print(f\"Predictions saved to: {save_path}\")\n",
    "    return save_path\n",
    "\n",
    "\n",
    "# 4. 모델 추론 (단일 이미지)\n",
    "def run_inference(model_path, image_path):\n",
    "    if not model_path or not Path(model_path).exists():\n",
    "        print(f\"Error: Invalid or non-existent model path provided for inference: {model_path}\")\n",
    "        return []\n",
    "\n",
    "    if not Path(image_path).exists():\n",
    "        print(f\"Error: Input image file not found for inference: {image_path}\")\n",
    "        return []\n",
    "\n",
    "    # 모델 로드\n",
    "    try:\n",
    "        model = YOLO(model_path) \n",
    "    except Exception as e:\n",
    "        print(f\"Error loading model for inference from {model_path}: {e}\")\n",
    "        return []\n",
    "\n",
    "    # 클래스 이름 매핑 (predict_and_visualize와 동일하게 정의)\n",
    "    class_names = {\n",
    "        0: '정상',\n",
    "        1: '배검은별무니병',\n",
    "        2: '배과수화상병',\n",
    "        3: '사과갈색무늬병',\n",
    "        4: '사과과수화상병',\n",
    "        5: '사과부란병',\n",
    "        6: '사과점무늬낙엽병',\n",
    "        7: '사과탄저병'\n",
    "    }\n",
    "\n",
    "    # 이미지 로드\n",
    "    img = cv2.imread(image_path)\n",
    "    if img is None:\n",
    "        print(f\"Error: Could not read image for inference: {image_path}\")\n",
    "        return []\n",
    "\n",
    "    img_rgb = cv2.cvtColor(img, cv2.COLOR_BGR2RGB)\n",
    "\n",
    "    # 추론 실행\n",
    "    print(f\"Running inference on image: {image_path}\")\n",
    "    # 단일 이미지 추론에는 tqdm이 불필요합니다.\n",
    "    try:\n",
    "        results = model.predict(\n",
    "            source=img_rgb,\n",
    "            conf=0.5,\n",
    "            imgsz=640,\n",
    "            device=device,\n",
    "            verbose=False\n",
    "        )\n",
    "    except Exception as e:\n",
    "        print(f\"An error occurred during inference for image {image_path}: {e}\")\n",
    "        return []\n",
    "\n",
    "    # 결과 처리 및 시각화\n",
    "    detections = []\n",
    "    result_img = img.copy()\n",
    "\n",
    "    # 예측 결과 출력 (단일 이미지 추론 결과)\n",
    "    print(f\"\\n--- Inference Results for {Path(image_path).name} ---\")\n",
    "    detections_found_inference = False # 단일 이미지 추론에서 객체 탐지 여부 플래그\n",
    "\n",
    "    if results and len(results) > 0 and hasattr(results[0], 'boxes'):\n",
    "        for box in results[0].boxes:\n",
    "            x1, y1, x2, y2 = box.xyxy[0].cpu().tolist()\n",
    "            class_id = int(box.cls)\n",
    "            conf = float(box.conf)\n",
    "\n",
    "            class_name = class_names.get(class_id, f'클래스 {class_id}') # 클래스 이름 사용\n",
    "            print(f\"  Detected: {class_name}, Confidence: {conf:.4f}, BBox: [{int(x1)}, {int(y1)}, {int(x2)}, {int(y2)}]\")\n",
    "            detections_found_inference = True\n",
    "\n",
    "            detections.append({\n",
    "                'class_id': class_id, # 원래 ID 유지\n",
    "                'class_name': class_name, # 추가된 클래스 이름\n",
    "                'confidence': conf,\n",
    "                'bbox': [x1, y1, x2, y2]\n",
    "            })\n",
    "\n",
    "            # 시각화: 박스 그리기\n",
    "            cv2.rectangle(\n",
    "                result_img,\n",
    "                (int(x1), int(y1)),\n",
    "                (int(x2), int(y2)),\n",
    "                (0, 255, 0), # 녹색 박스 (predict_and_visualize 함수와 색상 다름 주의)\n",
    "                2\n",
    "            )\n",
    "            label = f\"{class_name}: {conf:.2f}\" # 클래스 이름으로 라벨 표시\n",
    "            cv2.putText(\n",
    "                result_img,\n",
    "                label,\n",
    "                (int(x1), int(y1) - 10),\n",
    "                cv2.FONT_HERSHEY_SIMPLEX,\n",
    "                0.6,\n",
    "                (0, 255, 0),\n",
    "                2\n",
    "            )\n",
    "    \n",
    "    if not detections_found_inference:\n",
    "        print(\"  No objects detected.\")\n",
    "\n",
    "    # 결과 표시\n",
    "    if detections_found_inference: # 탐지된 객체가 있을 때만 이미지 표시\n",
    "        plt.figure(figsize=(10, 8))\n",
    "        plt.imshow(cv2.cvtColor(result_img, cv2.COLOR_BGR2RGB))\n",
    "        plt.title(\"Object Detection Result\")\n",
    "        plt.axis('off')\n",
    "        plt.show()\n",
    "    else:\n",
    "        print(\"No objects detected in the image. Displaying original image.\")\n",
    "        plt.figure(figsize=(10, 8))\n",
    "        plt.imshow(img_rgb)\n",
    "        plt.title(\"No Objects Detected\")\n",
    "        plt.axis('off')\n",
    "        plt.show()\n",
    "\n",
    "    return detections\n",
    "\n",
    "\n",
    "# 메인 실행\n",
    "if __name__ == \"__main__\":\n",
    "    # cv2 및 matplotlib import 추가 (predict_and_visualize, run_inference 함수에서 사용)\n",
    "    import cv2\n",
    "    import matplotlib.pyplot as plt\n",
    "\n",
    "    # device 변수가 main 함수 범위에서 정의되어 있는지 확인 (이미 맨 위에 정의됨.)\n",
    "\n",
    "    # 1. 모델 훈련\n",
    "    print(\"Starting model training...\")\n",
    "    trained_model_path = train_yolo() # train_yolo는 Ultralytics 내부 진행 바 사용\n",
    "\n",
    "    if trained_model_path:\n",
    "        print(f\"\\nSuccessfully trained model saved at: {trained_model_path}\")\n",
    "\n",
    "        # 2. 검증 (Validation set)\n",
    "        print(\"\\nValidating on validation set...\")\n",
    "        val_metrics = validate_model(trained_model_path, split_type='val') # validate_model은 Ultralytics 내부 진행 바 사용\n",
    "        if val_metrics:\n",
    "            print(\"Validation complete.\")\n",
    "        else:\n",
    "            print(\"Validation failed or returned no metrics.\")\n",
    "\n",
    "        # 3. 테스트 (Test set)\n",
    "        print(\"\\nTesting on test set...\")\n",
    "        test_metrics = validate_model(trained_model_path, split_type='test') # validate_model은 Ultralytics 내부 진행 바 사용\n",
    "        if test_metrics:\n",
    "            print(\"Test complete.\")\n",
    "        else:\n",
    "            print(\"Testing failed or returned no metrics.\")\n",
    "\n",
    "        # 4. 예측 시각화\n",
    "        print(\"\\nRunning predictions on test images...\")\n",
    "        # predict_and_visualize 함수 내부에서 tqdm 진행 바가 출력됩니다.\n",
    "        predict_save_path = predict_and_visualize(trained_model_path)\n",
    "        if predict_save_path:\n",
    "            print(f\"Prediction images saved to: {predict_save_path}\")\n",
    "        else:\n",
    "            print(\"Prediction and visualization failed.\")\n",
    "\n",
    "        # 5. 단일 이미지 추론 예시\n",
    "        test_image_files = list(Path('./YOLOv11Dataset/images/test').glob('*.jpg'))\n",
    "        if test_image_files:\n",
    "            sample_image = test_image_files[0]\n",
    "            print(f\"\\nRunning inference on sample image: {sample_image}\")\n",
    "            detections_single_image = run_inference(trained_model_path, str(sample_image))\n",
    "            \n",
    "        else:\n",
    "            print(\"\\nNo test images found for single image inference example.\")\n",
    "\n",
    "    else:\n",
    "        print(\"\\nModel training failed. Cannot proceed with validation, testing, prediction, or inference.\")"
   ]
  },
  {
   "cell_type": "code",
   "execution_count": null,
   "id": "1382572a-d949-439b-aea4-ddb9b1b6bf1b",
   "metadata": {},
   "outputs": [],
   "source": []
  },
  {
   "cell_type": "code",
   "execution_count": null,
   "id": "671cd6f8-b89c-4867-9509-20cfc0697867",
   "metadata": {},
   "outputs": [],
   "source": []
  },
  {
   "cell_type": "code",
   "execution_count": null,
   "id": "a8bde481-dfab-4bc8-a1b3-18869d031e9e",
   "metadata": {},
   "outputs": [],
   "source": []
  }
 ],
 "metadata": {
  "kernelspec": {
   "display_name": "Python (DL)",
   "language": "python",
   "name": "dl"
  },
  "language_info": {
   "codemirror_mode": {
    "name": "ipython",
    "version": 3
   },
   "file_extension": ".py",
   "mimetype": "text/x-python",
   "name": "python",
   "nbconvert_exporter": "python",
   "pygments_lexer": "ipython3",
   "version": "3.8.10"
  }
 },
 "nbformat": 4,
 "nbformat_minor": 5
}
